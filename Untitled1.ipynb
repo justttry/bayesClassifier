{
 "cells": [
  {
   "cell_type": "code",
   "execution_count": 1,
   "metadata": {
    "collapsed": true
   },
   "outputs": [],
   "source": [
    "from sklearn import  feature_extraction\n",
    "from sklearn.feature_extraction.text import TfidfTransformer\n",
    "from scipy import sparse\n",
    "from numpy import *"
   ]
  },
  {
   "cell_type": "code",
   "execution_count": 49,
   "metadata": {
    "collapsed": true
   },
   "outputs": [],
   "source": [
    "rows = random.randint(0, 10, (1, 30))\n",
    "cols = random.randint(0, 10, (1, 30))\n",
    "data = random.randint(0, 12, (1, 30))\n",
    "c = sparse.coo_matrix((data[0], (rows[0], cols[0])), shape=(10, 10))"
   ]
  },
  {
   "cell_type": "code",
   "execution_count": 50,
   "metadata": {
    "collapsed": false
   },
   "outputs": [
    {
     "data": {
      "text/plain": [
       "array([[ 0,  0,  0,  0,  0,  0,  0,  0, 10,  0],\n",
       "       [ 0,  0,  0,  0,  0,  0,  0,  0,  0,  6],\n",
       "       [ 3,  7,  0,  8, 10, 10,  0,  0,  0,  0],\n",
       "       [ 0,  5,  0,  0,  0,  0, 10,  0,  0,  0],\n",
       "       [ 1,  0,  0,  0,  3,  0,  8,  9,  0,  0],\n",
       "       [ 0,  0,  0,  0, 10,  0,  0,  7,  7,  0],\n",
       "       [ 0,  0,  3,  0,  0,  0,  0,  2,  0, 15],\n",
       "       [ 4,  0,  0,  0,  0,  6,  7,  0,  0,  0],\n",
       "       [ 7,  0,  0,  0,  0,  0,  0,  0,  0,  0],\n",
       "       [ 0,  9,  0,  0,  0,  0,  0,  0,  3, 10]])"
      ]
     },
     "execution_count": 50,
     "metadata": {},
     "output_type": "execute_result"
    }
   ],
   "source": [
    "c.toarray()"
   ]
  },
  {
   "cell_type": "code",
   "execution_count": 51,
   "metadata": {
    "collapsed": false
   },
   "outputs": [
    {
     "data": {
      "text/plain": [
       "matrix([[15, 21,  3,  8, 23, 16, 25, 18, 20, 31]])"
      ]
     },
     "execution_count": 51,
     "metadata": {},
     "output_type": "execute_result"
    }
   ],
   "source": [
    "c.sum(axis=0)"
   ]
  },
  {
   "cell_type": "code",
   "execution_count": 52,
   "metadata": {
    "collapsed": false
   },
   "outputs": [
    {
     "data": {
      "text/plain": [
       "matrix([[10],\n",
       "        [ 6],\n",
       "        [38],\n",
       "        [15],\n",
       "        [21],\n",
       "        [24],\n",
       "        [20],\n",
       "        [17],\n",
       "        [ 7],\n",
       "        [22]])"
      ]
     },
     "execution_count": 52,
     "metadata": {},
     "output_type": "execute_result"
    }
   ],
   "source": [
    "c.sum(axis=1)"
   ]
  },
  {
   "cell_type": "code",
   "execution_count": 53,
   "metadata": {
    "collapsed": false
   },
   "outputs": [
    {
     "data": {
      "text/plain": [
       "array([[ 0.,  0.,  0.,  0.,  0.,  0.,  0.,  0.,  1.,  0.],\n",
       "       [ 0.,  0.,  0.,  0.,  0.,  0.,  0.,  0.,  0.,  1.],\n",
       "       [ 1.,  1.,  0.,  1.,  1.,  1.,  0.,  0.,  0.,  0.],\n",
       "       [ 0.,  1.,  0.,  0.,  0.,  0.,  1.,  0.,  0.,  0.],\n",
       "       [ 1.,  0.,  0.,  0.,  1.,  0.,  1.,  1.,  0.,  0.],\n",
       "       [ 0.,  0.,  0.,  0.,  1.,  0.,  0.,  1.,  1.,  0.],\n",
       "       [ 0.,  0.,  1.,  0.,  0.,  0.,  0.,  1.,  0.,  1.],\n",
       "       [ 1.,  0.,  0.,  0.,  0.,  1.,  1.,  0.,  0.,  0.],\n",
       "       [ 1.,  0.,  0.,  0.,  0.,  0.,  0.,  0.,  0.,  0.],\n",
       "       [ 0.,  1.,  0.,  0.,  0.,  0.,  0.,  0.,  1.,  1.]])"
      ]
     },
     "execution_count": 53,
     "metadata": {},
     "output_type": "execute_result"
    }
   ],
   "source": [
    "ca = c.toarray()\n",
    "ca = array(ca, dtype=float)\n",
    "caidf = ca.copy()\n",
    "caidf[caidf!=0] = 1.0\n",
    "caidf"
   ]
  },
  {
   "cell_type": "code",
   "execution_count": 54,
   "metadata": {
    "collapsed": true
   },
   "outputs": [],
   "source": [
    "idf = 11 / (caidf.sum(axis=0) + 1)"
   ]
  },
  {
   "cell_type": "code",
   "execution_count": 55,
   "metadata": {
    "collapsed": false
   },
   "outputs": [
    {
     "data": {
      "text/plain": [
       "array([ 2.2       ,  2.75      ,  5.5       ,  5.5       ,  2.75      ,\n",
       "        3.66666667,  2.75      ,  2.75      ,  2.75      ,  2.75      ])"
      ]
     },
     "execution_count": 55,
     "metadata": {},
     "output_type": "execute_result"
    }
   ],
   "source": [
    "idf"
   ]
  },
  {
   "cell_type": "code",
   "execution_count": 56,
   "metadata": {
    "collapsed": false
   },
   "outputs": [],
   "source": [
    "newidf = idf * ca"
   ]
  },
  {
   "cell_type": "code",
   "execution_count": 57,
   "metadata": {
    "collapsed": false
   },
   "outputs": [
    {
     "data": {
      "text/plain": [
       "array([  27.5       ,   16.5       ,  134.01666667,   41.25      ,\n",
       "         57.2       ,   66.        ,   63.25      ,   50.05      ,\n",
       "         15.4       ,   60.5       ])"
      ]
     },
     "execution_count": 57,
     "metadata": {},
     "output_type": "execute_result"
    }
   ],
   "source": [
    "newidf.sum(axis=1)"
   ]
  },
  {
   "cell_type": "code",
   "execution_count": 59,
   "metadata": {
    "collapsed": false
   },
   "outputs": [
    {
     "data": {
      "text/plain": [
       "array([[ 0.        ,  0.        ,  0.        ,  0.        ,  0.        ,\n",
       "         0.        ,  0.        ,  0.        ,  1.        ,  0.        ],\n",
       "       [ 0.        ,  0.        ,  0.        ,  0.        ,  0.        ,\n",
       "         0.        ,  0.        ,  0.        ,  0.        ,  1.        ],\n",
       "       [ 0.04924761,  0.14363885,  0.        ,  0.32831737,  0.20519836,\n",
       "         0.27359781,  0.        ,  0.        ,  0.        ,  0.        ],\n",
       "       [ 0.        ,  0.33333333,  0.        ,  0.        ,  0.        ,\n",
       "         0.        ,  0.66666667,  0.        ,  0.        ,  0.        ],\n",
       "       [ 0.03846154,  0.        ,  0.        ,  0.        ,  0.14423077,\n",
       "         0.        ,  0.38461538,  0.43269231,  0.        ,  0.        ],\n",
       "       [ 0.        ,  0.        ,  0.        ,  0.        ,  0.41666667,\n",
       "         0.        ,  0.        ,  0.29166667,  0.29166667,  0.        ],\n",
       "       [ 0.        ,  0.        ,  0.26086957,  0.        ,  0.        ,\n",
       "         0.        ,  0.        ,  0.08695652,  0.        ,  0.65217391],\n",
       "       [ 0.17582418,  0.        ,  0.        ,  0.        ,  0.        ,\n",
       "         0.43956044,  0.38461538,  0.        ,  0.        ,  0.        ],\n",
       "       [ 1.        ,  0.        ,  0.        ,  0.        ,  0.        ,\n",
       "         0.        ,  0.        ,  0.        ,  0.        ,  0.        ],\n",
       "       [ 0.        ,  0.40909091,  0.        ,  0.        ,  0.        ,\n",
       "         0.        ,  0.        ,  0.        ,  0.13636364,  0.45454545]])"
      ]
     },
     "execution_count": 59,
     "metadata": {},
     "output_type": "execute_result"
    }
   ],
   "source": [
    "newidf / newidf.sum(axis=1).reshape((10, 1))"
   ]
  },
  {
   "cell_type": "code",
   "execution_count": 60,
   "metadata": {
    "collapsed": true
   },
   "outputs": [],
   "source": [
    "tfidftrans = TfidfTransformer()"
   ]
  },
  {
   "cell_type": "code",
   "execution_count": 61,
   "metadata": {
    "collapsed": true
   },
   "outputs": [],
   "source": [
    "tfidf = tfidftrans.fit_transform(c)"
   ]
  },
  {
   "cell_type": "code",
   "execution_count": 62,
   "metadata": {
    "collapsed": false
   },
   "outputs": [
    {
     "data": {
      "text/plain": [
       "array([[ 0.        ,  0.        ,  0.        ,  0.        ,  0.        ,\n",
       "         0.        ,  0.        ,  0.        ,  1.        ,  0.        ],\n",
       "       [ 0.        ,  0.        ,  0.        ,  0.        ,  0.        ,\n",
       "         0.        ,  0.        ,  0.        ,  0.        ,  1.        ],\n",
       "       [ 0.13295156,  0.34892609,  0.        ,  0.53617973,  0.49846585,\n",
       "         0.5697522 ,  0.        ,  0.        ,  0.        ,  0.        ],\n",
       "       [ 0.        ,  0.4472136 ,  0.        ,  0.        ,  0.        ,\n",
       "         0.        ,  0.89442719,  0.        ,  0.        ,  0.        ],\n",
       "       [ 0.0757331 ,  0.        ,  0.        ,  0.        ,  0.25554667,\n",
       "         0.        ,  0.68145778,  0.6815979 ,  0.        ,  0.        ],\n",
       "       [ 0.        ,  0.        ,  0.        ,  0.        ,  0.72984541,\n",
       "         0.        ,  0.        ,  0.45421941,  0.51089178,  0.        ],\n",
       "       [ 0.        ,  0.        ,  0.28718433,  0.        ,  0.        ,\n",
       "         0.        ,  0.        ,  0.12659637,  0.        ,  0.94947276],\n",
       "       [ 0.34113115,  0.        ,  0.        ,  0.        ,  0.        ,\n",
       "         0.65784938,  0.67146388,  0.        ,  0.        ,  0.        ],\n",
       "       [ 1.        ,  0.        ,  0.        ,  0.        ,  0.        ,\n",
       "         0.        ,  0.        ,  0.        ,  0.        ,  0.        ],\n",
       "       [ 0.        ,  0.69221586,  0.        ,  0.        ,  0.        ,\n",
       "         0.        ,  0.        ,  0.        ,  0.23073862,  0.68381056]])"
      ]
     },
     "execution_count": 62,
     "metadata": {},
     "output_type": "execute_result"
    }
   ],
   "source": [
    "tfidf.toarray()"
   ]
  },
  {
   "cell_type": "code",
   "execution_count": 66,
   "metadata": {
    "collapsed": false
   },
   "outputs": [
    {
     "data": {
      "text/plain": [
       "array([[ 0,  0,  0,  0,  0,  0,  0,  0, 10,  0],\n",
       "       [ 0,  0,  0,  0,  0,  0,  0,  0,  0,  6],\n",
       "       [ 3,  7,  0,  8, 10, 10,  0,  0,  0,  0],\n",
       "       [ 0,  5,  0,  0,  0,  0, 10,  0,  0,  0],\n",
       "       [ 1,  0,  0,  0,  3,  0,  8,  9,  0,  0],\n",
       "       [ 0,  0,  0,  0, 10,  0,  0,  7,  7,  0],\n",
       "       [ 0,  0,  3,  0,  0,  0,  0,  2,  0, 15],\n",
       "       [ 4,  0,  0,  0,  0,  6,  7,  0,  0,  0],\n",
       "       [ 7,  0,  0,  0,  0,  0,  0,  0,  0,  0],\n",
       "       [ 0,  9,  0,  0,  0,  0,  0,  0,  3, 10]])"
      ]
     },
     "execution_count": 66,
     "metadata": {},
     "output_type": "execute_result"
    }
   ],
   "source": [
    "c.toarray()"
   ]
  }
 ],
 "metadata": {
  "kernelspec": {
   "display_name": "Python 2",
   "language": "python",
   "name": "python2"
  },
  "language_info": {
   "codemirror_mode": {
    "name": "ipython",
    "version": 2
   },
   "file_extension": ".py",
   "mimetype": "text/x-python",
   "name": "python",
   "nbconvert_exporter": "python",
   "pygments_lexer": "ipython2",
   "version": "2.7.13"
  }
 },
 "nbformat": 4,
 "nbformat_minor": 2
}
