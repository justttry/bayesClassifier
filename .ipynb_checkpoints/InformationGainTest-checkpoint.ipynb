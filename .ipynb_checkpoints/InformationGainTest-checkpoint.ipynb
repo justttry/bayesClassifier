{
 "cells": [
  {
   "cell_type": "code",
   "execution_count": 13,
   "metadata": {
    "collapsed": true
   },
   "outputs": [],
   "source": [
    "from numpy import *\n",
    "import datetime\n",
    "import nltk"
   ]
  },
  {
   "cell_type": "code",
   "execution_count": 5,
   "metadata": {
    "collapsed": false
   },
   "outputs": [],
   "source": [
    "from bayesTextCls import *"
   ]
  },
  {
   "cell_type": "code",
   "execution_count": 25,
   "metadata": {
    "collapsed": true
   },
   "outputs": [],
   "source": [
    "files = [('f:\\\\data\\\\test_file2\\\\\\xbd\\xbb\\xcd\\xa8\\\\4150.txt', '\\xbd\\xbb\\xcd\\xa8'), ('f:\\\\data\\\\test_file2\\\\\\xbd\\xbb\\xcd\\xa8\\\\4151.txt', '\\xbd\\xbb\\xcd\\xa8'), ('f:\\\\data\\\\test_file2\\\\\\xbd\\xbb\\xcd\\xa8\\\\4152.txt', '\\xbd\\xbb\\xcd\\xa8'), ('f:\\\\data\\\\test_file2\\\\\\xbd\\xbb\\xcd\\xa8\\\\4153.txt', '\\xbd\\xbb\\xcd\\xa8'), ('f:\\\\data\\\\test_file2\\\\\\xbd\\xbb\\xcd\\xa8\\\\4154.txt', '\\xbd\\xbb\\xcd\\xa8'), ('f:\\\\data\\\\test_file2\\\\\\xbd\\xbb\\xcd\\xa8\\\\4155.txt', '\\xbd\\xbb\\xcd\\xa8'), ('f:\\\\data\\\\test_file2\\\\\\xbd\\xbb\\xcd\\xa8\\\\4156.txt', '\\xbd\\xbb\\xcd\\xa8'), ('f:\\\\data\\\\test_file2\\\\\\xbd\\xbb\\xcd\\xa8\\\\4157.txt', '\\xbd\\xbb\\xcd\\xa8'), ('f:\\\\data\\\\test_file2\\\\\\xbd\\xbb\\xcd\\xa8\\\\4158.txt', '\\xbd\\xbb\\xcd\\xa8'), ('f:\\\\data\\\\test_file2\\\\\\xbd\\xbb\\xcd\\xa8\\\\4159.txt', '\\xbd\\xbb\\xcd\\xa8'), ('f:\\\\data\\\\test_file2\\\\\\xbd\\xbb\\xcd\\xa8\\\\4160.txt', '\\xbd\\xbb\\xcd\\xa8'), ('f:\\\\data\\\\test_file2\\\\\\xbd\\xbb\\xcd\\xa8\\\\4161.txt', '\\xbd\\xbb\\xcd\\xa8'), ('f:\\\\data\\\\test_file2\\\\\\xbd\\xbb\\xcd\\xa8\\\\4162.txt', '\\xbd\\xbb\\xcd\\xa8'), ('f:\\\\data\\\\test_file2\\\\\\xbd\\xbb\\xcd\\xa8\\\\4163.txt', '\\xbd\\xbb\\xcd\\xa8'), ('f:\\\\data\\\\test_file2\\\\\\xbd\\xbb\\xcd\\xa8\\\\4164.txt', '\\xbd\\xbb\\xcd\\xa8'), ('f:\\\\data\\\\test_file2\\\\\\xbd\\xbb\\xcd\\xa8\\\\4165.txt', '\\xbd\\xbb\\xcd\\xa8'), ('f:\\\\data\\\\test_file2\\\\\\xbd\\xbb\\xcd\\xa8\\\\4166.txt', '\\xbd\\xbb\\xcd\\xa8'), ('f:\\\\data\\\\test_file2\\\\\\xbd\\xbb\\xcd\\xa8\\\\4167.txt', '\\xbd\\xbb\\xcd\\xa8'), ('f:\\\\data\\\\test_file2\\\\\\xbd\\xbb\\xcd\\xa8\\\\4168.txt', '\\xbd\\xbb\\xcd\\xa8'), ('f:\\\\data\\\\test_file2\\\\\\xbd\\xbb\\xcd\\xa8\\\\4169.txt', '\\xbd\\xbb\\xcd\\xa8'), ('f:\\\\data\\\\test_file2\\\\\\xbd\\xbb\\xcd\\xa8\\\\4170.txt', '\\xbd\\xbb\\xcd\\xa8'), ('f:\\\\data\\\\test_file2\\\\\\xbd\\xbb\\xcd\\xa8\\\\4171.txt', '\\xbd\\xbb\\xcd\\xa8'), ('f:\\\\data\\\\test_file2\\\\\\xbd\\xbb\\xcd\\xa8\\\\4172.txt', '\\xbd\\xbb\\xcd\\xa8'), ('f:\\\\data\\\\test_file2\\\\\\xbd\\xbb\\xcd\\xa8\\\\4173.txt', '\\xbd\\xbb\\xcd\\xa8'), ('f:\\\\data\\\\test_file2\\\\\\xbd\\xbb\\xcd\\xa8\\\\4174.txt', '\\xbd\\xbb\\xcd\\xa8'), ('f:\\\\data\\\\test_file2\\\\\\xbd\\xbb\\xcd\\xa8\\\\4175.txt', '\\xbd\\xbb\\xcd\\xa8'), ('f:\\\\data\\\\test_file2\\\\\\xbd\\xbb\\xcd\\xa8\\\\4176.txt', '\\xbd\\xbb\\xcd\\xa8'), ('f:\\\\data\\\\test_file2\\\\\\xbd\\xbb\\xcd\\xa8\\\\4177.txt', '\\xbd\\xbb\\xcd\\xa8'), ('f:\\\\data\\\\test_file2\\\\\\xbd\\xbb\\xcd\\xa8\\\\4178.txt', '\\xbd\\xbb\\xcd\\xa8'), ('f:\\\\data\\\\test_file2\\\\\\xbd\\xbb\\xcd\\xa8\\\\4193.txt', '\\xbd\\xbb\\xcd\\xa8'), ('f:\\\\data\\\\test_file2\\\\\\xbd\\xbb\\xcd\\xa8\\\\4194.txt', '\\xbd\\xbb\\xcd\\xa8'), ('f:\\\\data\\\\test_file2\\\\\\xbd\\xbb\\xcd\\xa8\\\\4195.txt', '\\xbd\\xbb\\xcd\\xa8'), ('f:\\\\data\\\\test_file2\\\\\\xbd\\xbb\\xcd\\xa8\\\\4196.txt', '\\xbd\\xbb\\xcd\\xa8'), ('f:\\\\data\\\\test_file2\\\\\\xbd\\xbb\\xcd\\xa8\\\\4197.txt', '\\xbd\\xbb\\xcd\\xa8'), ('f:\\\\data\\\\test_file2\\\\\\xbd\\xbb\\xcd\\xa8\\\\4198.txt', '\\xbd\\xbb\\xcd\\xa8'), ('f:\\\\data\\\\test_file2\\\\\\xbd\\xbb\\xcd\\xa8\\\\4206.txt', '\\xbd\\xbb\\xcd\\xa8'), ('f:\\\\data\\\\test_file2\\\\\\xbd\\xbb\\xcd\\xa8\\\\4207.txt', '\\xbd\\xbb\\xcd\\xa8'), ('f:\\\\data\\\\test_file2\\\\\\xbd\\xbb\\xcd\\xa8\\\\4208.txt', '\\xbd\\xbb\\xcd\\xa8'), ('f:\\\\data\\\\test_file2\\\\\\xbd\\xbb\\xcd\\xa8\\\\4209.txt', '\\xbd\\xbb\\xcd\\xa8'), ('f:\\\\data\\\\test_file2\\\\\\xbd\\xbb\\xcd\\xa8\\\\4210.txt', '\\xbd\\xbb\\xcd\\xa8'), ('f:\\\\data\\\\test_file2\\\\\\xbd\\xbb\\xcd\\xa8\\\\4211.txt', '\\xbd\\xbb\\xcd\\xa8'), ('f:\\\\data\\\\test_file2\\\\\\xbd\\xbb\\xcd\\xa8\\\\4212.txt', '\\xbd\\xbb\\xcd\\xa8'), ('f:\\\\data\\\\test_file2\\\\\\xbd\\xbb\\xcd\\xa8\\\\4213.txt', '\\xbd\\xbb\\xcd\\xa8'), ('f:\\\\data\\\\test_file2\\\\\\xbd\\xbb\\xcd\\xa8\\\\4214.txt', '\\xbd\\xbb\\xcd\\xa8'), ('f:\\\\data\\\\test_file2\\\\\\xbd\\xbb\\xcd\\xa8\\\\494.TXT', '\\xbd\\xbb\\xcd\\xa8'), ('f:\\\\data\\\\test_file2\\\\\\xbd\\xbb\\xcd\\xa8\\\\495.TXT', '\\xbd\\xbb\\xcd\\xa8'), ('f:\\\\data\\\\test_file2\\\\\\xbd\\xbb\\xcd\\xa8\\\\496.TXT', '\\xbd\\xbb\\xcd\\xa8'), ('f:\\\\data\\\\test_file2\\\\\\xbd\\xbb\\xcd\\xa8\\\\497.TXT', '\\xbd\\xbb\\xcd\\xa8'), ('f:\\\\data\\\\test_file2\\\\\\xbd\\xbb\\xcd\\xa8\\\\498.TXT', '\\xbd\\xbb\\xcd\\xa8'), ('f:\\\\data\\\\test_file2\\\\\\xbd\\xbb\\xcd\\xa8\\\\499.TXT', '\\xbd\\xbb\\xcd\\xa8'), ('f:\\\\data\\\\test_file2\\\\\\xcc\\xe5\\xd3\\xfd\\\\10401.txt', '\\xcc\\xe5\\xd3\\xfd'), ('f:\\\\data\\\\test_file2\\\\\\xcc\\xe5\\xd3\\xfd\\\\10402.txt', '\\xcc\\xe5\\xd3\\xfd'), ('f:\\\\data\\\\test_file2\\\\\\xcc\\xe5\\xd3\\xfd\\\\10403.txt', '\\xcc\\xe5\\xd3\\xfd'), ('f:\\\\data\\\\test_file2\\\\\\xcc\\xe5\\xd3\\xfd\\\\10404.txt', '\\xcc\\xe5\\xd3\\xfd'), ('f:\\\\data\\\\test_file2\\\\\\xcc\\xe5\\xd3\\xfd\\\\10405.txt', '\\xcc\\xe5\\xd3\\xfd'), ('f:\\\\data\\\\test_file2\\\\\\xcc\\xe5\\xd3\\xfd\\\\10406.txt', '\\xcc\\xe5\\xd3\\xfd'), ('f:\\\\data\\\\test_file2\\\\\\xcc\\xe5\\xd3\\xfd\\\\10407.txt', '\\xcc\\xe5\\xd3\\xfd'), ('f:\\\\data\\\\test_file2\\\\\\xcc\\xe5\\xd3\\xfd\\\\10408.txt', '\\xcc\\xe5\\xd3\\xfd'), ('f:\\\\data\\\\test_file2\\\\\\xcc\\xe5\\xd3\\xfd\\\\10409.txt', '\\xcc\\xe5\\xd3\\xfd'), ('f:\\\\data\\\\test_file2\\\\\\xcc\\xe5\\xd3\\xfd\\\\10410.txt', '\\xcc\\xe5\\xd3\\xfd'), ('f:\\\\data\\\\test_file2\\\\\\xcc\\xe5\\xd3\\xfd\\\\10411.txt', '\\xcc\\xe5\\xd3\\xfd'), ('f:\\\\data\\\\test_file2\\\\\\xcc\\xe5\\xd3\\xfd\\\\10412.txt', '\\xcc\\xe5\\xd3\\xfd'), ('f:\\\\data\\\\test_file2\\\\\\xcc\\xe5\\xd3\\xfd\\\\10413.txt', '\\xcc\\xe5\\xd3\\xfd'), ('f:\\\\data\\\\test_file2\\\\\\xcc\\xe5\\xd3\\xfd\\\\10414.txt', '\\xcc\\xe5\\xd3\\xfd'), ('f:\\\\data\\\\test_file2\\\\\\xcc\\xe5\\xd3\\xfd\\\\10415.txt', '\\xcc\\xe5\\xd3\\xfd'), ('f:\\\\data\\\\test_file2\\\\\\xcc\\xe5\\xd3\\xfd\\\\10416.txt', '\\xcc\\xe5\\xd3\\xfd'), ('f:\\\\data\\\\test_file2\\\\\\xcc\\xe5\\xd3\\xfd\\\\10417.txt', '\\xcc\\xe5\\xd3\\xfd'), ('f:\\\\data\\\\test_file2\\\\\\xcc\\xe5\\xd3\\xfd\\\\10418.txt', '\\xcc\\xe5\\xd3\\xfd'), ('f:\\\\data\\\\test_file2\\\\\\xcc\\xe5\\xd3\\xfd\\\\10419.txt', '\\xcc\\xe5\\xd3\\xfd'), ('f:\\\\data\\\\test_file2\\\\\\xcc\\xe5\\xd3\\xfd\\\\10420.txt', '\\xcc\\xe5\\xd3\\xfd'), ('f:\\\\data\\\\test_file2\\\\\\xcc\\xe5\\xd3\\xfd\\\\10421.txt', '\\xcc\\xe5\\xd3\\xfd'), ('f:\\\\data\\\\test_file2\\\\\\xcc\\xe5\\xd3\\xfd\\\\10422.txt', '\\xcc\\xe5\\xd3\\xfd'), ('f:\\\\data\\\\test_file2\\\\\\xcc\\xe5\\xd3\\xfd\\\\10423.txt', '\\xcc\\xe5\\xd3\\xfd'), ('f:\\\\data\\\\test_file2\\\\\\xcc\\xe5\\xd3\\xfd\\\\10424.txt', '\\xcc\\xe5\\xd3\\xfd'), ('f:\\\\data\\\\test_file2\\\\\\xcc\\xe5\\xd3\\xfd\\\\10425.txt', '\\xcc\\xe5\\xd3\\xfd'), ('f:\\\\data\\\\test_file2\\\\\\xcc\\xe5\\xd3\\xfd\\\\10426.txt', '\\xcc\\xe5\\xd3\\xfd'), ('f:\\\\data\\\\test_file2\\\\\\xcc\\xe5\\xd3\\xfd\\\\10427.txt', '\\xcc\\xe5\\xd3\\xfd'), ('f:\\\\data\\\\test_file2\\\\\\xcc\\xe5\\xd3\\xfd\\\\10428.txt', '\\xcc\\xe5\\xd3\\xfd'), ('f:\\\\data\\\\test_file2\\\\\\xcc\\xe5\\xd3\\xfd\\\\10429.txt', '\\xcc\\xe5\\xd3\\xfd'), ('f:\\\\data\\\\test_file2\\\\\\xcc\\xe5\\xd3\\xfd\\\\10430.txt', '\\xcc\\xe5\\xd3\\xfd'), ('f:\\\\data\\\\test_file2\\\\\\xcc\\xe5\\xd3\\xfd\\\\10431.txt', '\\xcc\\xe5\\xd3\\xfd'), ('f:\\\\data\\\\test_file2\\\\\\xcc\\xe5\\xd3\\xfd\\\\10432.txt', '\\xcc\\xe5\\xd3\\xfd'), ('f:\\\\data\\\\test_file2\\\\\\xcc\\xe5\\xd3\\xfd\\\\10433.txt', '\\xcc\\xe5\\xd3\\xfd'), ('f:\\\\data\\\\test_file2\\\\\\xcc\\xe5\\xd3\\xfd\\\\10434.txt', '\\xcc\\xe5\\xd3\\xfd'), ('f:\\\\data\\\\test_file2\\\\\\xcc\\xe5\\xd3\\xfd\\\\10435.txt', '\\xcc\\xe5\\xd3\\xfd'), ('f:\\\\data\\\\test_file2\\\\\\xcc\\xe5\\xd3\\xfd\\\\10436.txt', '\\xcc\\xe5\\xd3\\xfd'), ('f:\\\\data\\\\test_file2\\\\\\xcc\\xe5\\xd3\\xfd\\\\10437.txt', '\\xcc\\xe5\\xd3\\xfd'), ('f:\\\\data\\\\test_file2\\\\\\xcc\\xe5\\xd3\\xfd\\\\10438.txt', '\\xcc\\xe5\\xd3\\xfd'), ('f:\\\\data\\\\test_file2\\\\\\xcc\\xe5\\xd3\\xfd\\\\10439.txt', '\\xcc\\xe5\\xd3\\xfd'), ('f:\\\\data\\\\test_file2\\\\\\xcc\\xe5\\xd3\\xfd\\\\10440.txt', '\\xcc\\xe5\\xd3\\xfd'), ('f:\\\\data\\\\test_file2\\\\\\xcc\\xe5\\xd3\\xfd\\\\10441.txt', '\\xcc\\xe5\\xd3\\xfd'), ('f:\\\\data\\\\test_file2\\\\\\xcc\\xe5\\xd3\\xfd\\\\10442.txt', '\\xcc\\xe5\\xd3\\xfd'), ('f:\\\\data\\\\test_file2\\\\\\xcc\\xe5\\xd3\\xfd\\\\10443.txt', '\\xcc\\xe5\\xd3\\xfd'), ('f:\\\\data\\\\test_file2\\\\\\xcc\\xe5\\xd3\\xfd\\\\10444.txt', '\\xcc\\xe5\\xd3\\xfd'), ('f:\\\\data\\\\test_file2\\\\\\xcc\\xe5\\xd3\\xfd\\\\10445.txt', '\\xcc\\xe5\\xd3\\xfd'), ('f:\\\\data\\\\test_file2\\\\\\xcc\\xe5\\xd3\\xfd\\\\10446.txt', '\\xcc\\xe5\\xd3\\xfd'), ('f:\\\\data\\\\test_file2\\\\\\xcc\\xe5\\xd3\\xfd\\\\10447.txt', '\\xcc\\xe5\\xd3\\xfd'), ('f:\\\\data\\\\test_file2\\\\\\xcc\\xe5\\xd3\\xfd\\\\10448.txt', '\\xcc\\xe5\\xd3\\xfd'), ('f:\\\\data\\\\test_file2\\\\\\xcc\\xe5\\xd3\\xfd\\\\10449.txt', '\\xcc\\xe5\\xd3\\xfd'), ('f:\\\\data\\\\test_file2\\\\\\xcc\\xe5\\xd3\\xfd\\\\10450.txt', '\\xcc\\xe5\\xd3\\xfd'), ('f:\\\\data\\\\test_file2\\\\\\xbe\\xfc\\xca\\xc2\\\\8202.txt', '\\xbe\\xfc\\xca\\xc2'), ('f:\\\\data\\\\test_file2\\\\\\xbe\\xfc\\xca\\xc2\\\\8203.txt', '\\xbe\\xfc\\xca\\xc2'), ('f:\\\\data\\\\test_file2\\\\\\xbe\\xfc\\xca\\xc2\\\\8204.txt', '\\xbe\\xfc\\xca\\xc2'), ('f:\\\\data\\\\test_file2\\\\\\xbe\\xfc\\xca\\xc2\\\\8205.txt', '\\xbe\\xfc\\xca\\xc2'), ('f:\\\\data\\\\test_file2\\\\\\xbe\\xfc\\xca\\xc2\\\\8206.txt', '\\xbe\\xfc\\xca\\xc2'), ('f:\\\\data\\\\test_file2\\\\\\xbe\\xfc\\xca\\xc2\\\\8207.txt', '\\xbe\\xfc\\xca\\xc2'), ('f:\\\\data\\\\test_file2\\\\\\xbe\\xfc\\xca\\xc2\\\\8208.txt', '\\xbe\\xfc\\xca\\xc2'), ('f:\\\\data\\\\test_file2\\\\\\xbe\\xfc\\xca\\xc2\\\\8209.txt', '\\xbe\\xfc\\xca\\xc2'), ('f:\\\\data\\\\test_file2\\\\\\xbe\\xfc\\xca\\xc2\\\\8210.txt', '\\xbe\\xfc\\xca\\xc2'), ('f:\\\\data\\\\test_file2\\\\\\xbe\\xfc\\xca\\xc2\\\\8211.txt', '\\xbe\\xfc\\xca\\xc2'), ('f:\\\\data\\\\test_file2\\\\\\xbe\\xfc\\xca\\xc2\\\\8212.txt', '\\xbe\\xfc\\xca\\xc2'), ('f:\\\\data\\\\test_file2\\\\\\xbe\\xfc\\xca\\xc2\\\\8213.txt', '\\xbe\\xfc\\xca\\xc2'), ('f:\\\\data\\\\test_file2\\\\\\xbe\\xfc\\xca\\xc2\\\\8214.txt', '\\xbe\\xfc\\xca\\xc2'), ('f:\\\\data\\\\test_file2\\\\\\xbe\\xfc\\xca\\xc2\\\\8215.txt', '\\xbe\\xfc\\xca\\xc2'), ('f:\\\\data\\\\test_file2\\\\\\xbe\\xfc\\xca\\xc2\\\\8216.txt', '\\xbe\\xfc\\xca\\xc2'), ('f:\\\\data\\\\test_file2\\\\\\xbe\\xfc\\xca\\xc2\\\\8217.txt', '\\xbe\\xfc\\xca\\xc2'), ('f:\\\\data\\\\test_file2\\\\\\xbe\\xfc\\xca\\xc2\\\\8218.txt', '\\xbe\\xfc\\xca\\xc2'), ('f:\\\\data\\\\test_file2\\\\\\xbe\\xfc\\xca\\xc2\\\\8219.txt', '\\xbe\\xfc\\xca\\xc2'), ('f:\\\\data\\\\test_file2\\\\\\xbe\\xfc\\xca\\xc2\\\\8220.txt', '\\xbe\\xfc\\xca\\xc2'), ('f:\\\\data\\\\test_file2\\\\\\xbe\\xfc\\xca\\xc2\\\\8221.txt', '\\xbe\\xfc\\xca\\xc2'), ('f:\\\\data\\\\test_file2\\\\\\xbe\\xfc\\xca\\xc2\\\\8222.txt', '\\xbe\\xfc\\xca\\xc2'), ('f:\\\\data\\\\test_file2\\\\\\xbe\\xfc\\xca\\xc2\\\\8223.txt', '\\xbe\\xfc\\xca\\xc2'), ('f:\\\\data\\\\test_file2\\\\\\xbe\\xfc\\xca\\xc2\\\\8224.txt', '\\xbe\\xfc\\xca\\xc2'), ('f:\\\\data\\\\test_file2\\\\\\xbe\\xfc\\xca\\xc2\\\\8225.txt', '\\xbe\\xfc\\xca\\xc2'), ('f:\\\\data\\\\test_file2\\\\\\xbe\\xfc\\xca\\xc2\\\\8226.txt', '\\xbe\\xfc\\xca\\xc2'), ('f:\\\\data\\\\test_file2\\\\\\xbe\\xfc\\xca\\xc2\\\\8227.txt', '\\xbe\\xfc\\xca\\xc2'), ('f:\\\\data\\\\test_file2\\\\\\xbe\\xfc\\xca\\xc2\\\\8228.txt', '\\xbe\\xfc\\xca\\xc2'), ('f:\\\\data\\\\test_file2\\\\\\xbe\\xfc\\xca\\xc2\\\\8229.txt', '\\xbe\\xfc\\xca\\xc2'), ('f:\\\\data\\\\test_file2\\\\\\xbe\\xfc\\xca\\xc2\\\\8230.txt', '\\xbe\\xfc\\xca\\xc2'), ('f:\\\\data\\\\test_file2\\\\\\xbe\\xfc\\xca\\xc2\\\\8231.txt', '\\xbe\\xfc\\xca\\xc2'), ('f:\\\\data\\\\test_file2\\\\\\xbe\\xfc\\xca\\xc2\\\\8232.txt', '\\xbe\\xfc\\xca\\xc2'), ('f:\\\\data\\\\test_file2\\\\\\xbe\\xfc\\xca\\xc2\\\\8233.txt', '\\xbe\\xfc\\xca\\xc2'), ('f:\\\\data\\\\test_file2\\\\\\xbe\\xfc\\xca\\xc2\\\\8234.txt', '\\xbe\\xfc\\xca\\xc2'), ('f:\\\\data\\\\test_file2\\\\\\xbe\\xfc\\xca\\xc2\\\\8235.txt', '\\xbe\\xfc\\xca\\xc2'), ('f:\\\\data\\\\test_file2\\\\\\xbe\\xfc\\xca\\xc2\\\\8236.txt', '\\xbe\\xfc\\xca\\xc2'), ('f:\\\\data\\\\test_file2\\\\\\xbe\\xfc\\xca\\xc2\\\\8237.txt', '\\xbe\\xfc\\xca\\xc2'), ('f:\\\\data\\\\test_file2\\\\\\xbe\\xfc\\xca\\xc2\\\\8238.txt', '\\xbe\\xfc\\xca\\xc2'), ('f:\\\\data\\\\test_file2\\\\\\xbe\\xfc\\xca\\xc2\\\\8239.txt', '\\xbe\\xfc\\xca\\xc2'), ('f:\\\\data\\\\test_file2\\\\\\xbe\\xfc\\xca\\xc2\\\\8240.txt', '\\xbe\\xfc\\xca\\xc2'), ('f:\\\\data\\\\test_file2\\\\\\xbe\\xfc\\xca\\xc2\\\\8241.txt', '\\xbe\\xfc\\xca\\xc2'), ('f:\\\\data\\\\test_file2\\\\\\xbe\\xfc\\xca\\xc2\\\\8242.txt', '\\xbe\\xfc\\xca\\xc2'), ('f:\\\\data\\\\test_file2\\\\\\xbe\\xfc\\xca\\xc2\\\\8243.txt', '\\xbe\\xfc\\xca\\xc2'), ('f:\\\\data\\\\test_file2\\\\\\xbe\\xfc\\xca\\xc2\\\\8244.txt', '\\xbe\\xfc\\xca\\xc2'), ('f:\\\\data\\\\test_file2\\\\\\xbe\\xfc\\xca\\xc2\\\\8245.txt', '\\xbe\\xfc\\xca\\xc2'), ('f:\\\\data\\\\test_file2\\\\\\xbe\\xfc\\xca\\xc2\\\\8246.txt', '\\xbe\\xfc\\xca\\xc2'), ('f:\\\\data\\\\test_file2\\\\\\xbe\\xfc\\xca\\xc2\\\\8247.txt', '\\xbe\\xfc\\xca\\xc2'), ('f:\\\\data\\\\test_file2\\\\\\xbe\\xfc\\xca\\xc2\\\\8248.txt', '\\xbe\\xfc\\xca\\xc2'), ('f:\\\\data\\\\test_file2\\\\\\xbe\\xfc\\xca\\xc2\\\\8249.txt', '\\xbe\\xfc\\xca\\xc2'), ('f:\\\\data\\\\test_file2\\\\\\xbe\\xfc\\xca\\xc2\\\\856.TXT', '\\xbe\\xfc\\xca\\xc2'), ('f:\\\\data\\\\test_file2\\\\\\xbe\\xfc\\xca\\xc2\\\\857.TXT', '\\xbe\\xfc\\xca\\xc2'), ('f:\\\\data\\\\test_file2\\\\\\xd5\\xfe\\xd6\\xce\\\\9427.TXT', '\\xd5\\xfe\\xd6\\xce'), ('f:\\\\data\\\\test_file2\\\\\\xd5\\xfe\\xd6\\xce\\\\9428.TXT', '\\xd5\\xfe\\xd6\\xce'), ('f:\\\\data\\\\test_file2\\\\\\xd5\\xfe\\xd6\\xce\\\\9429.TXT', '\\xd5\\xfe\\xd6\\xce'), ('f:\\\\data\\\\test_file2\\\\\\xd5\\xfe\\xd6\\xce\\\\9430.TXT', '\\xd5\\xfe\\xd6\\xce'), ('f:\\\\data\\\\test_file2\\\\\\xd5\\xfe\\xd6\\xce\\\\9431.TXT', '\\xd5\\xfe\\xd6\\xce'), ('f:\\\\data\\\\test_file2\\\\\\xd5\\xfe\\xd6\\xce\\\\9432.TXT', '\\xd5\\xfe\\xd6\\xce'), ('f:\\\\data\\\\test_file2\\\\\\xd5\\xfe\\xd6\\xce\\\\9433.TXT', '\\xd5\\xfe\\xd6\\xce'), ('f:\\\\data\\\\test_file2\\\\\\xd5\\xfe\\xd6\\xce\\\\9434.TXT', '\\xd5\\xfe\\xd6\\xce'), ('f:\\\\data\\\\test_file2\\\\\\xd5\\xfe\\xd6\\xce\\\\9435.TXT', '\\xd5\\xfe\\xd6\\xce'), ('f:\\\\data\\\\test_file2\\\\\\xd5\\xfe\\xd6\\xce\\\\9436.TXT', '\\xd5\\xfe\\xd6\\xce'), ('f:\\\\data\\\\test_file2\\\\\\xd5\\xfe\\xd6\\xce\\\\9437.TXT', '\\xd5\\xfe\\xd6\\xce'), ('f:\\\\data\\\\test_file2\\\\\\xd5\\xfe\\xd6\\xce\\\\9438.TXT', '\\xd5\\xfe\\xd6\\xce'), ('f:\\\\data\\\\test_file2\\\\\\xd5\\xfe\\xd6\\xce\\\\9439.TXT', '\\xd5\\xfe\\xd6\\xce'), ('f:\\\\data\\\\test_file2\\\\\\xd5\\xfe\\xd6\\xce\\\\9440.TXT', '\\xd5\\xfe\\xd6\\xce'), ('f:\\\\data\\\\test_file2\\\\\\xd5\\xfe\\xd6\\xce\\\\9441.TXT', '\\xd5\\xfe\\xd6\\xce'), ('f:\\\\data\\\\test_file2\\\\\\xd5\\xfe\\xd6\\xce\\\\9442.TXT', '\\xd5\\xfe\\xd6\\xce'), ('f:\\\\data\\\\test_file2\\\\\\xd5\\xfe\\xd6\\xce\\\\9444.TXT', '\\xd5\\xfe\\xd6\\xce'), ('f:\\\\data\\\\test_file2\\\\\\xd5\\xfe\\xd6\\xce\\\\9445.TXT', '\\xd5\\xfe\\xd6\\xce'), ('f:\\\\data\\\\test_file2\\\\\\xd5\\xfe\\xd6\\xce\\\\9446.TXT', '\\xd5\\xfe\\xd6\\xce'), ('f:\\\\data\\\\test_file2\\\\\\xd5\\xfe\\xd6\\xce\\\\9447.TXT', '\\xd5\\xfe\\xd6\\xce'), ('f:\\\\data\\\\test_file2\\\\\\xd5\\xfe\\xd6\\xce\\\\9448.TXT', '\\xd5\\xfe\\xd6\\xce'), ('f:\\\\data\\\\test_file2\\\\\\xd5\\xfe\\xd6\\xce\\\\9449.TXT', '\\xd5\\xfe\\xd6\\xce'), ('f:\\\\data\\\\test_file2\\\\\\xd5\\xfe\\xd6\\xce\\\\9457.TXT', '\\xd5\\xfe\\xd6\\xce'), ('f:\\\\data\\\\test_file2\\\\\\xd5\\xfe\\xd6\\xce\\\\9458.TXT', '\\xd5\\xfe\\xd6\\xce'), ('f:\\\\data\\\\test_file2\\\\\\xd5\\xfe\\xd6\\xce\\\\9459.TXT', '\\xd5\\xfe\\xd6\\xce'), ('f:\\\\data\\\\test_file2\\\\\\xd5\\xfe\\xd6\\xce\\\\9460.TXT', '\\xd5\\xfe\\xd6\\xce'), ('f:\\\\data\\\\test_file2\\\\\\xd5\\xfe\\xd6\\xce\\\\9461.TXT', '\\xd5\\xfe\\xd6\\xce'), ('f:\\\\data\\\\test_file2\\\\\\xd5\\xfe\\xd6\\xce\\\\9462.TXT', '\\xd5\\xfe\\xd6\\xce'), ('f:\\\\data\\\\test_file2\\\\\\xd5\\xfe\\xd6\\xce\\\\9463.TXT', '\\xd5\\xfe\\xd6\\xce'), ('f:\\\\data\\\\test_file2\\\\\\xd5\\xfe\\xd6\\xce\\\\9464.TXT', '\\xd5\\xfe\\xd6\\xce'), ('f:\\\\data\\\\test_file2\\\\\\xd5\\xfe\\xd6\\xce\\\\9465.TXT', '\\xd5\\xfe\\xd6\\xce'), ('f:\\\\data\\\\test_file2\\\\\\xd5\\xfe\\xd6\\xce\\\\9466.TXT', '\\xd5\\xfe\\xd6\\xce'), ('f:\\\\data\\\\test_file2\\\\\\xd5\\xfe\\xd6\\xce\\\\9467.TXT', '\\xd5\\xfe\\xd6\\xce'), ('f:\\\\data\\\\test_file2\\\\\\xd5\\xfe\\xd6\\xce\\\\9468.TXT', '\\xd5\\xfe\\xd6\\xce'), ('f:\\\\data\\\\test_file2\\\\\\xd5\\xfe\\xd6\\xce\\\\9469.TXT', '\\xd5\\xfe\\xd6\\xce'), ('f:\\\\data\\\\test_file2\\\\\\xd5\\xfe\\xd6\\xce\\\\9470.TXT', '\\xd5\\xfe\\xd6\\xce'), ('f:\\\\data\\\\test_file2\\\\\\xd5\\xfe\\xd6\\xce\\\\9492.TXT', '\\xd5\\xfe\\xd6\\xce'), ('f:\\\\data\\\\test_file2\\\\\\xd5\\xfe\\xd6\\xce\\\\9493.TXT', '\\xd5\\xfe\\xd6\\xce'), ('f:\\\\data\\\\test_file2\\\\\\xd5\\xfe\\xd6\\xce\\\\9494.TXT', '\\xd5\\xfe\\xd6\\xce'), ('f:\\\\data\\\\test_file2\\\\\\xd5\\xfe\\xd6\\xce\\\\9495.TXT', '\\xd5\\xfe\\xd6\\xce'), ('f:\\\\data\\\\test_file2\\\\\\xd5\\xfe\\xd6\\xce\\\\9496.TXT', '\\xd5\\xfe\\xd6\\xce'), ('f:\\\\data\\\\test_file2\\\\\\xd5\\xfe\\xd6\\xce\\\\9497.TXT', '\\xd5\\xfe\\xd6\\xce'), ('f:\\\\data\\\\test_file2\\\\\\xd5\\xfe\\xd6\\xce\\\\9498.TXT', '\\xd5\\xfe\\xd6\\xce'), ('f:\\\\data\\\\test_file2\\\\\\xd5\\xfe\\xd6\\xce\\\\9499.TXT', '\\xd5\\xfe\\xd6\\xce'), ('f:\\\\data\\\\test_file2\\\\\\xd5\\xfe\\xd6\\xce\\\\9500.TXT', '\\xd5\\xfe\\xd6\\xce'), ('f:\\\\data\\\\test_file2\\\\\\xd5\\xfe\\xd6\\xce\\\\9501.TXT', '\\xd5\\xfe\\xd6\\xce'), ('f:\\\\data\\\\test_file2\\\\\\xd5\\xfe\\xd6\\xce\\\\9502.TXT', '\\xd5\\xfe\\xd6\\xce'), ('f:\\\\data\\\\test_file2\\\\\\xd5\\xfe\\xd6\\xce\\\\9503.TXT', '\\xd5\\xfe\\xd6\\xce'), ('f:\\\\data\\\\test_file2\\\\\\xd5\\xfe\\xd6\\xce\\\\9504.TXT', '\\xd5\\xfe\\xd6\\xce'), ('f:\\\\data\\\\test_file2\\\\\\xd5\\xfe\\xd6\\xce\\\\9505.TXT', '\\xd5\\xfe\\xd6\\xce'), ('f:\\\\data\\\\test_file2\\\\\\xbd\\xcc\\xd3\\xfd\\\\3158.txt', '\\xbd\\xcc\\xd3\\xfd'), ('f:\\\\data\\\\test_file2\\\\\\xbd\\xcc\\xd3\\xfd\\\\3159.txt', '\\xbd\\xcc\\xd3\\xfd'), ('f:\\\\data\\\\test_file2\\\\\\xbd\\xcc\\xd3\\xfd\\\\3160.txt', '\\xbd\\xcc\\xd3\\xfd'), ('f:\\\\data\\\\test_file2\\\\\\xbd\\xcc\\xd3\\xfd\\\\3161.txt', '\\xbd\\xcc\\xd3\\xfd'), ('f:\\\\data\\\\test_file2\\\\\\xbd\\xcc\\xd3\\xfd\\\\3162.txt', '\\xbd\\xcc\\xd3\\xfd'), ('f:\\\\data\\\\test_file2\\\\\\xbd\\xcc\\xd3\\xfd\\\\3163.txt', '\\xbd\\xcc\\xd3\\xfd'), ('f:\\\\data\\\\test_file2\\\\\\xbd\\xcc\\xd3\\xfd\\\\3164.txt', '\\xbd\\xcc\\xd3\\xfd'), ('f:\\\\data\\\\test_file2\\\\\\xbd\\xcc\\xd3\\xfd\\\\3165.txt', '\\xbd\\xcc\\xd3\\xfd'), ('f:\\\\data\\\\test_file2\\\\\\xbd\\xcc\\xd3\\xfd\\\\3166.txt', '\\xbd\\xcc\\xd3\\xfd'), ('f:\\\\data\\\\test_file2\\\\\\xbd\\xcc\\xd3\\xfd\\\\3167.txt', '\\xbd\\xcc\\xd3\\xfd'), ('f:\\\\data\\\\test_file2\\\\\\xbd\\xcc\\xd3\\xfd\\\\3168.txt', '\\xbd\\xcc\\xd3\\xfd'), ('f:\\\\data\\\\test_file2\\\\\\xbd\\xcc\\xd3\\xfd\\\\3169.txt', '\\xbd\\xcc\\xd3\\xfd'), ('f:\\\\data\\\\test_file2\\\\\\xbd\\xcc\\xd3\\xfd\\\\3170.txt', '\\xbd\\xcc\\xd3\\xfd'), ('f:\\\\data\\\\test_file2\\\\\\xbd\\xcc\\xd3\\xfd\\\\3171.txt', '\\xbd\\xcc\\xd3\\xfd'), ('f:\\\\data\\\\test_file2\\\\\\xbd\\xcc\\xd3\\xfd\\\\3172.txt', '\\xbd\\xcc\\xd3\\xfd'), ('f:\\\\data\\\\test_file2\\\\\\xbd\\xcc\\xd3\\xfd\\\\3173.txt', '\\xbd\\xcc\\xd3\\xfd'), ('f:\\\\data\\\\test_file2\\\\\\xbd\\xcc\\xd3\\xfd\\\\3174.txt', '\\xbd\\xcc\\xd3\\xfd'), ('f:\\\\data\\\\test_file2\\\\\\xbd\\xcc\\xd3\\xfd\\\\3175.txt', '\\xbd\\xcc\\xd3\\xfd'), ('f:\\\\data\\\\test_file2\\\\\\xbd\\xcc\\xd3\\xfd\\\\3176.txt', '\\xbd\\xcc\\xd3\\xfd'), ('f:\\\\data\\\\test_file2\\\\\\xbd\\xcc\\xd3\\xfd\\\\3177.txt', '\\xbd\\xcc\\xd3\\xfd'), ('f:\\\\data\\\\test_file2\\\\\\xbd\\xcc\\xd3\\xfd\\\\3178.txt', '\\xbd\\xcc\\xd3\\xfd'), ('f:\\\\data\\\\test_file2\\\\\\xbd\\xcc\\xd3\\xfd\\\\3179.txt', '\\xbd\\xcc\\xd3\\xfd'), ('f:\\\\data\\\\test_file2\\\\\\xbd\\xcc\\xd3\\xfd\\\\3180.txt', '\\xbd\\xcc\\xd3\\xfd'), ('f:\\\\data\\\\test_file2\\\\\\xbd\\xcc\\xd3\\xfd\\\\3181.txt', '\\xbd\\xcc\\xd3\\xfd'), ('f:\\\\data\\\\test_file2\\\\\\xbd\\xcc\\xd3\\xfd\\\\3182.txt', '\\xbd\\xcc\\xd3\\xfd'), ('f:\\\\data\\\\test_file2\\\\\\xbd\\xcc\\xd3\\xfd\\\\3183.txt', '\\xbd\\xcc\\xd3\\xfd'), ('f:\\\\data\\\\test_file2\\\\\\xbd\\xcc\\xd3\\xfd\\\\3184.txt', '\\xbd\\xcc\\xd3\\xfd'), ('f:\\\\data\\\\test_file2\\\\\\xbd\\xcc\\xd3\\xfd\\\\3185.txt', '\\xbd\\xcc\\xd3\\xfd'), ('f:\\\\data\\\\test_file2\\\\\\xbd\\xcc\\xd3\\xfd\\\\3195.txt', '\\xbd\\xcc\\xd3\\xfd'), ('f:\\\\data\\\\test_file2\\\\\\xbd\\xcc\\xd3\\xfd\\\\3196.txt', '\\xbd\\xcc\\xd3\\xfd'), ('f:\\\\data\\\\test_file2\\\\\\xbd\\xcc\\xd3\\xfd\\\\3197.txt', '\\xbd\\xcc\\xd3\\xfd'), ('f:\\\\data\\\\test_file2\\\\\\xbd\\xcc\\xd3\\xfd\\\\3198.txt', '\\xbd\\xcc\\xd3\\xfd'), ('f:\\\\data\\\\test_file2\\\\\\xbd\\xcc\\xd3\\xfd\\\\3199.txt', '\\xbd\\xcc\\xd3\\xfd'), ('f:\\\\data\\\\test_file2\\\\\\xbd\\xcc\\xd3\\xfd\\\\3200.txt', '\\xbd\\xcc\\xd3\\xfd'), ('f:\\\\data\\\\test_file2\\\\\\xbd\\xcc\\xd3\\xfd\\\\3201.txt', '\\xbd\\xcc\\xd3\\xfd'), ('f:\\\\data\\\\test_file2\\\\\\xbd\\xcc\\xd3\\xfd\\\\3202.txt', '\\xbd\\xcc\\xd3\\xfd'), ('f:\\\\data\\\\test_file2\\\\\\xbd\\xcc\\xd3\\xfd\\\\3203.txt', '\\xbd\\xcc\\xd3\\xfd'), ('f:\\\\data\\\\test_file2\\\\\\xbd\\xcc\\xd3\\xfd\\\\3204.txt', '\\xbd\\xcc\\xd3\\xfd'), ('f:\\\\data\\\\test_file2\\\\\\xbd\\xcc\\xd3\\xfd\\\\3205.txt', '\\xbd\\xcc\\xd3\\xfd'), ('f:\\\\data\\\\test_file2\\\\\\xbd\\xcc\\xd3\\xfd\\\\3206.txt', '\\xbd\\xcc\\xd3\\xfd'), ('f:\\\\data\\\\test_file2\\\\\\xbd\\xcc\\xd3\\xfd\\\\3207.txt', '\\xbd\\xcc\\xd3\\xfd'), ('f:\\\\data\\\\test_file2\\\\\\xbd\\xcc\\xd3\\xfd\\\\3208.txt', '\\xbd\\xcc\\xd3\\xfd'), ('f:\\\\data\\\\test_file2\\\\\\xbd\\xcc\\xd3\\xfd\\\\3209.txt', '\\xbd\\xcc\\xd3\\xfd'), ('f:\\\\data\\\\test_file2\\\\\\xbd\\xcc\\xd3\\xfd\\\\3210.txt', '\\xbd\\xcc\\xd3\\xfd'), ('f:\\\\data\\\\test_file2\\\\\\xbd\\xcc\\xd3\\xfd\\\\3211.txt', '\\xbd\\xcc\\xd3\\xfd'), ('f:\\\\data\\\\test_file2\\\\\\xbd\\xcc\\xd3\\xfd\\\\3216.txt', '\\xbd\\xcc\\xd3\\xfd'), ('f:\\\\data\\\\test_file2\\\\\\xbd\\xcc\\xd3\\xfd\\\\3217.txt', '\\xbd\\xcc\\xd3\\xfd'), ('f:\\\\data\\\\test_file2\\\\\\xbd\\xcc\\xd3\\xfd\\\\3218.txt', '\\xbd\\xcc\\xd3\\xfd'), ('f:\\\\data\\\\test_file2\\\\\\xbd\\xcc\\xd3\\xfd\\\\3219.txt', '\\xbd\\xcc\\xd3\\xfd'), ('f:\\\\data\\\\test_file2\\\\\\xbd\\xcc\\xd3\\xfd\\\\3220.txt', '\\xbd\\xcc\\xd3\\xfd'), ('f:\\\\data\\\\test_file2\\\\\\xbe\\xad\\xbc\\xc3\\\\6265.txt', '\\xbe\\xad\\xbc\\xc3'), ('f:\\\\data\\\\test_file2\\\\\\xbe\\xad\\xbc\\xc3\\\\6266.txt', '\\xbe\\xad\\xbc\\xc3'), ('f:\\\\data\\\\test_file2\\\\\\xbe\\xad\\xbc\\xc3\\\\6267.txt', '\\xbe\\xad\\xbc\\xc3'), ('f:\\\\data\\\\test_file2\\\\\\xbe\\xad\\xbc\\xc3\\\\6268.txt', '\\xbe\\xad\\xbc\\xc3'), ('f:\\\\data\\\\test_file2\\\\\\xbe\\xad\\xbc\\xc3\\\\6269.txt', '\\xbe\\xad\\xbc\\xc3'), ('f:\\\\data\\\\test_file2\\\\\\xbe\\xad\\xbc\\xc3\\\\6270.txt', '\\xbe\\xad\\xbc\\xc3'), ('f:\\\\data\\\\test_file2\\\\\\xbe\\xad\\xbc\\xc3\\\\6271.txt', '\\xbe\\xad\\xbc\\xc3'), ('f:\\\\data\\\\test_file2\\\\\\xbe\\xad\\xbc\\xc3\\\\6272.txt', '\\xbe\\xad\\xbc\\xc3'), ('f:\\\\data\\\\test_file2\\\\\\xbe\\xad\\xbc\\xc3\\\\6273.txt', '\\xbe\\xad\\xbc\\xc3'), ('f:\\\\data\\\\test_file2\\\\\\xbe\\xad\\xbc\\xc3\\\\6274.txt', '\\xbe\\xad\\xbc\\xc3'), ('f:\\\\data\\\\test_file2\\\\\\xbe\\xad\\xbc\\xc3\\\\6275.txt', '\\xbe\\xad\\xbc\\xc3'), ('f:\\\\data\\\\test_file2\\\\\\xbe\\xad\\xbc\\xc3\\\\6276.txt', '\\xbe\\xad\\xbc\\xc3'), ('f:\\\\data\\\\test_file2\\\\\\xbe\\xad\\xbc\\xc3\\\\6277.txt', '\\xbe\\xad\\xbc\\xc3'), ('f:\\\\data\\\\test_file2\\\\\\xbe\\xad\\xbc\\xc3\\\\6278.txt', '\\xbe\\xad\\xbc\\xc3'), ('f:\\\\data\\\\test_file2\\\\\\xbe\\xad\\xbc\\xc3\\\\6279.txt', '\\xbe\\xad\\xbc\\xc3'), ('f:\\\\data\\\\test_file2\\\\\\xbe\\xad\\xbc\\xc3\\\\6280.txt', '\\xbe\\xad\\xbc\\xc3'), ('f:\\\\data\\\\test_file2\\\\\\xbe\\xad\\xbc\\xc3\\\\6281.txt', '\\xbe\\xad\\xbc\\xc3'), ('f:\\\\data\\\\test_file2\\\\\\xbe\\xad\\xbc\\xc3\\\\6282.txt', '\\xbe\\xad\\xbc\\xc3'), ('f:\\\\data\\\\test_file2\\\\\\xbe\\xad\\xbc\\xc3\\\\6283.txt', '\\xbe\\xad\\xbc\\xc3'), ('f:\\\\data\\\\test_file2\\\\\\xbe\\xad\\xbc\\xc3\\\\6284.txt', '\\xbe\\xad\\xbc\\xc3'), ('f:\\\\data\\\\test_file2\\\\\\xbe\\xad\\xbc\\xc3\\\\6285.txt', '\\xbe\\xad\\xbc\\xc3'), ('f:\\\\data\\\\test_file2\\\\\\xbe\\xad\\xbc\\xc3\\\\6286.txt', '\\xbe\\xad\\xbc\\xc3'), ('f:\\\\data\\\\test_file2\\\\\\xbe\\xad\\xbc\\xc3\\\\6287.txt', '\\xbe\\xad\\xbc\\xc3'), ('f:\\\\data\\\\test_file2\\\\\\xbe\\xad\\xbc\\xc3\\\\6288.txt', '\\xbe\\xad\\xbc\\xc3'), ('f:\\\\data\\\\test_file2\\\\\\xbe\\xad\\xbc\\xc3\\\\6289.txt', '\\xbe\\xad\\xbc\\xc3'), ('f:\\\\data\\\\test_file2\\\\\\xbe\\xad\\xbc\\xc3\\\\6301.txt', '\\xbe\\xad\\xbc\\xc3'), ('f:\\\\data\\\\test_file2\\\\\\xbe\\xad\\xbc\\xc3\\\\6302.txt', '\\xbe\\xad\\xbc\\xc3'), ('f:\\\\data\\\\test_file2\\\\\\xbe\\xad\\xbc\\xc3\\\\6303.txt', '\\xbe\\xad\\xbc\\xc3'), ('f:\\\\data\\\\test_file2\\\\\\xbe\\xad\\xbc\\xc3\\\\6304.txt', '\\xbe\\xad\\xbc\\xc3'), ('f:\\\\data\\\\test_file2\\\\\\xbe\\xad\\xbc\\xc3\\\\6305.txt', '\\xbe\\xad\\xbc\\xc3'), ('f:\\\\data\\\\test_file2\\\\\\xbe\\xad\\xbc\\xc3\\\\6306.txt', '\\xbe\\xad\\xbc\\xc3'), ('f:\\\\data\\\\test_file2\\\\\\xbe\\xad\\xbc\\xc3\\\\6307.txt', '\\xbe\\xad\\xbc\\xc3'), ('f:\\\\data\\\\test_file2\\\\\\xbe\\xad\\xbc\\xc3\\\\6308.txt', '\\xbe\\xad\\xbc\\xc3'), ('f:\\\\data\\\\test_file2\\\\\\xbe\\xad\\xbc\\xc3\\\\6309.txt', '\\xbe\\xad\\xbc\\xc3'), ('f:\\\\data\\\\test_file2\\\\\\xbe\\xad\\xbc\\xc3\\\\6310.txt', '\\xbe\\xad\\xbc\\xc3'), ('f:\\\\data\\\\test_file2\\\\\\xbe\\xad\\xbc\\xc3\\\\6311.txt', '\\xbe\\xad\\xbc\\xc3'), ('f:\\\\data\\\\test_file2\\\\\\xbe\\xad\\xbc\\xc3\\\\6312.txt', '\\xbe\\xad\\xbc\\xc3'), ('f:\\\\data\\\\test_file2\\\\\\xbe\\xad\\xbc\\xc3\\\\6313.txt', '\\xbe\\xad\\xbc\\xc3'), ('f:\\\\data\\\\test_file2\\\\\\xbe\\xad\\xbc\\xc3\\\\6314.txt', '\\xbe\\xad\\xbc\\xc3'), ('f:\\\\data\\\\test_file2\\\\\\xbe\\xad\\xbc\\xc3\\\\6315.txt', '\\xbe\\xad\\xbc\\xc3'), ('f:\\\\data\\\\test_file2\\\\\\xbe\\xad\\xbc\\xc3\\\\6316.txt', '\\xbe\\xad\\xbc\\xc3'), ('f:\\\\data\\\\test_file2\\\\\\xbe\\xad\\xbc\\xc3\\\\6317.txt', '\\xbe\\xad\\xbc\\xc3'), ('f:\\\\data\\\\test_file2\\\\\\xbe\\xad\\xbc\\xc3\\\\6318.txt', '\\xbe\\xad\\xbc\\xc3'), ('f:\\\\data\\\\test_file2\\\\\\xbe\\xad\\xbc\\xc3\\\\6319.txt', '\\xbe\\xad\\xbc\\xc3'), ('f:\\\\data\\\\test_file2\\\\\\xbe\\xad\\xbc\\xc3\\\\6320.txt', '\\xbe\\xad\\xbc\\xc3'), ('f:\\\\data\\\\test_file2\\\\\\xbe\\xad\\xbc\\xc3\\\\6321.txt', '\\xbe\\xad\\xbc\\xc3'), ('f:\\\\data\\\\test_file2\\\\\\xbe\\xad\\xbc\\xc3\\\\6322.txt', '\\xbe\\xad\\xbc\\xc3'), ('f:\\\\data\\\\test_file2\\\\\\xbe\\xad\\xbc\\xc3\\\\6323.txt', '\\xbe\\xad\\xbc\\xc3'), ('f:\\\\data\\\\test_file2\\\\\\xbe\\xad\\xbc\\xc3\\\\6324.txt', '\\xbe\\xad\\xbc\\xc3'), ('f:\\\\data\\\\test_file2\\\\\\xbe\\xad\\xbc\\xc3\\\\6325.txt', '\\xbe\\xad\\xbc\\xc3'), ('f:\\\\data\\\\test_file2\\\\\\xd2\\xd5\\xca\\xf5\\\\2173.txt', '\\xd2\\xd5\\xca\\xf5'), ('f:\\\\data\\\\test_file2\\\\\\xd2\\xd5\\xca\\xf5\\\\2174.txt', '\\xd2\\xd5\\xca\\xf5'), ('f:\\\\data\\\\test_file2\\\\\\xd2\\xd5\\xca\\xf5\\\\2175.txt', '\\xd2\\xd5\\xca\\xf5'), ('f:\\\\data\\\\test_file2\\\\\\xd2\\xd5\\xca\\xf5\\\\2176.txt', '\\xd2\\xd5\\xca\\xf5'), ('f:\\\\data\\\\test_file2\\\\\\xd2\\xd5\\xca\\xf5\\\\2177.txt', '\\xd2\\xd5\\xca\\xf5'), ('f:\\\\data\\\\test_file2\\\\\\xd2\\xd5\\xca\\xf5\\\\2178.txt', '\\xd2\\xd5\\xca\\xf5'), ('f:\\\\data\\\\test_file2\\\\\\xd2\\xd5\\xca\\xf5\\\\2179.txt', '\\xd2\\xd5\\xca\\xf5'), ('f:\\\\data\\\\test_file2\\\\\\xd2\\xd5\\xca\\xf5\\\\2180.txt', '\\xd2\\xd5\\xca\\xf5'), ('f:\\\\data\\\\test_file2\\\\\\xd2\\xd5\\xca\\xf5\\\\2181.txt', '\\xd2\\xd5\\xca\\xf5'), ('f:\\\\data\\\\test_file2\\\\\\xd2\\xd5\\xca\\xf5\\\\2182.txt', '\\xd2\\xd5\\xca\\xf5'), ('f:\\\\data\\\\test_file2\\\\\\xd2\\xd5\\xca\\xf5\\\\2183.txt', '\\xd2\\xd5\\xca\\xf5'), ('f:\\\\data\\\\test_file2\\\\\\xd2\\xd5\\xca\\xf5\\\\2184.txt', '\\xd2\\xd5\\xca\\xf5'), ('f:\\\\data\\\\test_file2\\\\\\xd2\\xd5\\xca\\xf5\\\\2185.txt', '\\xd2\\xd5\\xca\\xf5'), ('f:\\\\data\\\\test_file2\\\\\\xd2\\xd5\\xca\\xf5\\\\2186.txt', '\\xd2\\xd5\\xca\\xf5'), ('f:\\\\data\\\\test_file2\\\\\\xd2\\xd5\\xca\\xf5\\\\2187.txt', '\\xd2\\xd5\\xca\\xf5'), ('f:\\\\data\\\\test_file2\\\\\\xd2\\xd5\\xca\\xf5\\\\2188.txt', '\\xd2\\xd5\\xca\\xf5'), ('f:\\\\data\\\\test_file2\\\\\\xd2\\xd5\\xca\\xf5\\\\2189.txt', '\\xd2\\xd5\\xca\\xf5'), ('f:\\\\data\\\\test_file2\\\\\\xd2\\xd5\\xca\\xf5\\\\2190.txt', '\\xd2\\xd5\\xca\\xf5'), ('f:\\\\data\\\\test_file2\\\\\\xd2\\xd5\\xca\\xf5\\\\2195.txt', '\\xd2\\xd5\\xca\\xf5'), ('f:\\\\data\\\\test_file2\\\\\\xd2\\xd5\\xca\\xf5\\\\2196.txt', '\\xd2\\xd5\\xca\\xf5'), ('f:\\\\data\\\\test_file2\\\\\\xd2\\xd5\\xca\\xf5\\\\2197.txt', '\\xd2\\xd5\\xca\\xf5'), ('f:\\\\data\\\\test_file2\\\\\\xd2\\xd5\\xca\\xf5\\\\2198.txt', '\\xd2\\xd5\\xca\\xf5'), ('f:\\\\data\\\\test_file2\\\\\\xd2\\xd5\\xca\\xf5\\\\2199.txt', '\\xd2\\xd5\\xca\\xf5'), ('f:\\\\data\\\\test_file2\\\\\\xd2\\xd5\\xca\\xf5\\\\2200.txt', '\\xd2\\xd5\\xca\\xf5'), ('f:\\\\data\\\\test_file2\\\\\\xd2\\xd5\\xca\\xf5\\\\2201.txt', '\\xd2\\xd5\\xca\\xf5'), ('f:\\\\data\\\\test_file2\\\\\\xd2\\xd5\\xca\\xf5\\\\2202.txt', '\\xd2\\xd5\\xca\\xf5'), ('f:\\\\data\\\\test_file2\\\\\\xd2\\xd5\\xca\\xf5\\\\2203.txt', '\\xd2\\xd5\\xca\\xf5'), ('f:\\\\data\\\\test_file2\\\\\\xd2\\xd5\\xca\\xf5\\\\2204.txt', '\\xd2\\xd5\\xca\\xf5'), ('f:\\\\data\\\\test_file2\\\\\\xd2\\xd5\\xca\\xf5\\\\2205.txt', '\\xd2\\xd5\\xca\\xf5'), ('f:\\\\data\\\\test_file2\\\\\\xd2\\xd5\\xca\\xf5\\\\2206.txt', '\\xd2\\xd5\\xca\\xf5'), ('f:\\\\data\\\\test_file2\\\\\\xd2\\xd5\\xca\\xf5\\\\2207.txt', '\\xd2\\xd5\\xca\\xf5'), ('f:\\\\data\\\\test_file2\\\\\\xd2\\xd5\\xca\\xf5\\\\2208.txt', '\\xd2\\xd5\\xca\\xf5'), ('f:\\\\data\\\\test_file2\\\\\\xd2\\xd5\\xca\\xf5\\\\2209.txt', '\\xd2\\xd5\\xca\\xf5'), ('f:\\\\data\\\\test_file2\\\\\\xd2\\xd5\\xca\\xf5\\\\2210.txt', '\\xd2\\xd5\\xca\\xf5'), ('f:\\\\data\\\\test_file2\\\\\\xd2\\xd5\\xca\\xf5\\\\2211.txt', '\\xd2\\xd5\\xca\\xf5'), ('f:\\\\data\\\\test_file2\\\\\\xd2\\xd5\\xca\\xf5\\\\2212.txt', '\\xd2\\xd5\\xca\\xf5'), ('f:\\\\data\\\\test_file2\\\\\\xd2\\xd5\\xca\\xf5\\\\2213.txt', '\\xd2\\xd5\\xca\\xf5'), ('f:\\\\data\\\\test_file2\\\\\\xd2\\xd5\\xca\\xf5\\\\2236.txt', '\\xd2\\xd5\\xca\\xf5'), ('f:\\\\data\\\\test_file2\\\\\\xd2\\xd5\\xca\\xf5\\\\2237.txt', '\\xd2\\xd5\\xca\\xf5'), ('f:\\\\data\\\\test_file2\\\\\\xd2\\xd5\\xca\\xf5\\\\2238.txt', '\\xd2\\xd5\\xca\\xf5'), ('f:\\\\data\\\\test_file2\\\\\\xd2\\xd5\\xca\\xf5\\\\2239.txt', '\\xd2\\xd5\\xca\\xf5'), ('f:\\\\data\\\\test_file2\\\\\\xd2\\xd5\\xca\\xf5\\\\2240.txt', '\\xd2\\xd5\\xca\\xf5'), ('f:\\\\data\\\\test_file2\\\\\\xd2\\xd5\\xca\\xf5\\\\2241.txt', '\\xd2\\xd5\\xca\\xf5'), ('f:\\\\data\\\\test_file2\\\\\\xd2\\xd5\\xca\\xf5\\\\2242.txt', '\\xd2\\xd5\\xca\\xf5'), ('f:\\\\data\\\\test_file2\\\\\\xd2\\xd5\\xca\\xf5\\\\2243.txt', '\\xd2\\xd5\\xca\\xf5'), ('f:\\\\data\\\\test_file2\\\\\\xd2\\xd5\\xca\\xf5\\\\2244.txt', '\\xd2\\xd5\\xca\\xf5'), ('f:\\\\data\\\\test_file2\\\\\\xd2\\xd5\\xca\\xf5\\\\2245.txt', '\\xd2\\xd5\\xca\\xf5'), ('f:\\\\data\\\\test_file2\\\\\\xd2\\xd5\\xca\\xf5\\\\2246.txt', '\\xd2\\xd5\\xca\\xf5'), ('f:\\\\data\\\\test_file2\\\\\\xd2\\xd5\\xca\\xf5\\\\2247.txt', '\\xd2\\xd5\\xca\\xf5'), ('f:\\\\data\\\\test_file2\\\\\\xd2\\xd5\\xca\\xf5\\\\2248.txt', '\\xd2\\xd5\\xca\\xf5')]"
   ]
  },
  {
   "cell_type": "code",
   "execution_count": 26,
   "metadata": {
    "collapsed": false
   },
   "outputs": [
    {
     "name": "stdout",
     "output_type": "stream",
     "text": [
      "f:\\data\\test_file2\\��ͨ\\4150.txt\n",
      "f:\\data\\test_file2\\��ͨ\\4151.txt\n",
      "f:\\data\\test_file2\\��ͨ\\4152.txt\n",
      "f:\\data\\test_file2\\��ͨ\\4153.txt\n",
      "f:\\data\\test_file2\\��ͨ\\4154.txt\n",
      "f:\\data\\test_file2\\��ͨ\\4155.txt\n",
      "f:\\data\\test_file2\\��ͨ\\4156.txt\n",
      "f:\\data\\test_file2\\��ͨ\\4157.txt\n",
      "f:\\data\\test_file2\\��ͨ\\4158.txt\n",
      "f:\\data\\test_file2\\��ͨ\\4159.txt\n",
      "f:\\data\\test_file2\\��ͨ\\4160.txt\n",
      "f:\\data\\test_file2\\��ͨ\\4161.txt\n",
      "f:\\data\\test_file2\\��ͨ\\4162.txt\n",
      "f:\\data\\test_file2\\��ͨ\\4163.txt\n",
      "f:\\data\\test_file2\\��ͨ\\4164.txt\n",
      "f:\\data\\test_file2\\��ͨ\\4165.txt\n",
      "f:\\data\\test_file2\\��ͨ\\4166.txt\n",
      "f:\\data\\test_file2\\��ͨ\\4167.txt\n",
      "f:\\data\\test_file2\\��ͨ\\4168.txt\n",
      "f:\\data\\test_file2\\��ͨ\\4169.txt\n",
      "f:\\data\\test_file2\\��ͨ\\4170.txt\n",
      "f:\\data\\test_file2\\��ͨ\\4171.txt\n",
      "f:\\data\\test_file2\\��ͨ\\4172.txt\n",
      "f:\\data\\test_file2\\��ͨ\\4173.txt\n",
      "f:\\data\\test_file2\\��ͨ\\4174.txt\n",
      "f:\\data\\test_file2\\��ͨ\\4175.txt\n",
      "f:\\data\\test_file2\\��ͨ\\4176.txt\n",
      "f:\\data\\test_file2\\��ͨ\\4177.txt\n",
      "f:\\data\\test_file2\\��ͨ\\4178.txt\n",
      "f:\\data\\test_file2\\��ͨ\\4193.txt\n",
      "f:\\data\\test_file2\\��ͨ\\4194.txt\n",
      "f:\\data\\test_file2\\��ͨ\\4195.txt\n",
      "f:\\data\\test_file2\\��ͨ\\4196.txt\n",
      "f:\\data\\test_file2\\��ͨ\\4197.txt\n",
      "f:\\data\\test_file2\\��ͨ\\4198.txt\n",
      "f:\\data\\test_file2\\��ͨ\\4206.txt\n",
      "f:\\data\\test_file2\\��ͨ\\4207.txt\n",
      "f:\\data\\test_file2\\��ͨ\\4208.txt\n",
      "f:\\data\\test_file2\\��ͨ\\4209.txt\n",
      "f:\\data\\test_file2\\��ͨ\\4210.txt\n",
      "f:\\data\\test_file2\\��ͨ\\4211.txt\n",
      "f:\\data\\test_file2\\��ͨ\\4212.txt\n",
      "f:\\data\\test_file2\\��ͨ\\4213.txt\n",
      "f:\\data\\test_file2\\��ͨ\\4214.txt\n",
      "f:\\data\\test_file2\\��ͨ\\494.TXT\n",
      "f:\\data\\test_file2\\��ͨ\\495.TXT\n",
      "f:\\data\\test_file2\\��ͨ\\496.TXT\n",
      "f:\\data\\test_file2\\��ͨ\\497.TXT\n",
      "f:\\data\\test_file2\\��ͨ\\498.TXT\n",
      "f:\\data\\test_file2\\��ͨ\\499.TXT\n",
      "f:\\data\\test_file2\\����\\10401.txt\n",
      "f:\\data\\test_file2\\����\\10402.txt\n",
      "f:\\data\\test_file2\\����\\10403.txt\n",
      "f:\\data\\test_file2\\����\\10404.txt\n",
      "f:\\data\\test_file2\\����\\10405.txt\n",
      "f:\\data\\test_file2\\����\\10406.txt\n",
      "f:\\data\\test_file2\\����\\10407.txt\n",
      "f:\\data\\test_file2\\����\\10408.txt\n",
      "f:\\data\\test_file2\\����\\10409.txt\n",
      "f:\\data\\test_file2\\����\\10410.txt\n",
      "f:\\data\\test_file2\\����\\10411.txt\n",
      "f:\\data\\test_file2\\����\\10412.txt\n",
      "f:\\data\\test_file2\\����\\10413.txt\n",
      "f:\\data\\test_file2\\����\\10414.txt\n",
      "f:\\data\\test_file2\\����\\10415.txt\n",
      "f:\\data\\test_file2\\����\\10416.txt\n",
      "f:\\data\\test_file2\\����\\10417.txt\n",
      "f:\\data\\test_file2\\����\\10418.txt\n",
      "f:\\data\\test_file2\\����\\10419.txt\n",
      "f:\\data\\test_file2\\����\\10420.txt\n",
      "f:\\data\\test_file2\\����\\10421.txt\n",
      "f:\\data\\test_file2\\����\\10422.txt\n",
      "f:\\data\\test_file2\\����\\10423.txt\n",
      "f:\\data\\test_file2\\����\\10424.txt\n",
      "f:\\data\\test_file2\\����\\10425.txt\n",
      "f:\\data\\test_file2\\����\\10426.txt\n",
      "f:\\data\\test_file2\\����\\10427.txt\n",
      "f:\\data\\test_file2\\����\\10428.txt\n",
      "f:\\data\\test_file2\\����\\10429.txt\n",
      "f:\\data\\test_file2\\����\\10430.txt\n",
      "f:\\data\\test_file2\\����\\10431.txt\n",
      "f:\\data\\test_file2\\����\\10432.txt\n",
      "f:\\data\\test_file2\\����\\10433.txt\n",
      "f:\\data\\test_file2\\����\\10434.txt\n",
      "f:\\data\\test_file2\\����\\10435.txt\n",
      "f:\\data\\test_file2\\����\\10436.txt\n",
      "f:\\data\\test_file2\\����\\10437.txt\n",
      "f:\\data\\test_file2\\����\\10438.txt\n",
      "f:\\data\\test_file2\\����\\10439.txt\n",
      "f:\\data\\test_file2\\����\\10440.txt\n",
      "f:\\data\\test_file2\\����\\10441.txt\n",
      "f:\\data\\test_file2\\����\\10442.txt\n",
      "f:\\data\\test_file2\\����\\10443.txt\n",
      "f:\\data\\test_file2\\����\\10444.txt\n",
      "f:\\data\\test_file2\\����\\10445.txt\n",
      "f:\\data\\test_file2\\����\\10446.txt\n",
      "f:\\data\\test_file2\\����\\10447.txt\n",
      "f:\\data\\test_file2\\����\\10448.txt\n",
      "f:\\data\\test_file2\\����\\10449.txt\n",
      "f:\\data\\test_file2\\����\\10450.txt\n",
      "f:\\data\\test_file2\\����\\8202.txt\n",
      "f:\\data\\test_file2\\����\\8203.txt\n",
      "f:\\data\\test_file2\\����\\8204.txt\n",
      "f:\\data\\test_file2\\����\\8205.txt\n",
      "f:\\data\\test_file2\\����\\8206.txt\n",
      "f:\\data\\test_file2\\����\\8207.txt\n",
      "f:\\data\\test_file2\\����\\8208.txt\n",
      "f:\\data\\test_file2\\����\\8209.txt\n",
      "f:\\data\\test_file2\\����\\8210.txt\n",
      "f:\\data\\test_file2\\����\\8211.txt\n",
      "f:\\data\\test_file2\\����\\8212.txt\n",
      "f:\\data\\test_file2\\����\\8213.txt\n",
      "f:\\data\\test_file2\\����\\8214.txt\n",
      "f:\\data\\test_file2\\����\\8215.txt\n",
      "f:\\data\\test_file2\\����\\8216.txt\n",
      "f:\\data\\test_file2\\����\\8217.txt\n",
      "f:\\data\\test_file2\\����\\8218.txt\n",
      "f:\\data\\test_file2\\����\\8219.txt\n",
      "f:\\data\\test_file2\\����\\8220.txt\n",
      "f:\\data\\test_file2\\����\\8221.txt\n",
      "f:\\data\\test_file2\\����\\8222.txt\n",
      "f:\\data\\test_file2\\����\\8223.txt\n",
      "f:\\data\\test_file2\\����\\8224.txt\n",
      "f:\\data\\test_file2\\����\\8225.txt\n",
      "f:\\data\\test_file2\\����\\8226.txt\n",
      "f:\\data\\test_file2\\����\\8227.txt\n",
      "f:\\data\\test_file2\\����\\8228.txt\n",
      "f:\\data\\test_file2\\����\\8229.txt\n",
      "f:\\data\\test_file2\\����\\8230.txt\n",
      "f:\\data\\test_file2\\����\\8231.txt\n",
      "f:\\data\\test_file2\\����\\8232.txt\n",
      "f:\\data\\test_file2\\����\\8233.txt\n",
      "f:\\data\\test_file2\\����\\8234.txt\n",
      "f:\\data\\test_file2\\����\\8235.txt\n",
      "f:\\data\\test_file2\\����\\8236.txt\n",
      "f:\\data\\test_file2\\����\\8237.txt\n",
      "f:\\data\\test_file2\\����\\8238.txt\n",
      "f:\\data\\test_file2\\����\\8239.txt\n",
      "f:\\data\\test_file2\\����\\8240.txt\n",
      "f:\\data\\test_file2\\����\\8241.txt\n",
      "f:\\data\\test_file2\\����\\8242.txt\n",
      "f:\\data\\test_file2\\����\\8243.txt\n",
      "f:\\data\\test_file2\\����\\8244.txt\n",
      "f:\\data\\test_file2\\����\\8245.txt\n",
      "f:\\data\\test_file2\\����\\8246.txt\n",
      "f:\\data\\test_file2\\����\\8247.txt\n",
      "f:\\data\\test_file2\\����\\8248.txt\n",
      "f:\\data\\test_file2\\����\\8249.txt\n",
      "f:\\data\\test_file2\\����\\856.TXT\n",
      "f:\\data\\test_file2\\����\\857.TXT\n",
      "f:\\data\\test_file2\\����\\9427.TXT\n",
      "f:\\data\\test_file2\\����\\9428.TXT\n",
      "f:\\data\\test_file2\\����\\9429.TXT\n",
      "f:\\data\\test_file2\\����\\9430.TXT\n",
      "f:\\data\\test_file2\\����\\9431.TXT\n",
      "f:\\data\\test_file2\\����\\9432.TXT\n",
      "f:\\data\\test_file2\\����\\9433.TXT\n",
      "f:\\data\\test_file2\\����\\9434.TXT\n",
      "f:\\data\\test_file2\\����\\9435.TXT\n",
      "f:\\data\\test_file2\\����\\9436.TXT\n",
      "f:\\data\\test_file2\\����\\9437.TXT\n",
      "f:\\data\\test_file2\\����\\9438.TXT\n",
      "f:\\data\\test_file2\\����\\9439.TXT\n",
      "f:\\data\\test_file2\\����\\9440.TXT\n",
      "f:\\data\\test_file2\\����\\9441.TXT\n",
      "f:\\data\\test_file2\\����\\9442.TXT\n",
      "f:\\data\\test_file2\\����\\9444.TXT\n",
      "f:\\data\\test_file2\\����\\9445.TXT\n",
      "f:\\data\\test_file2\\����\\9446.TXT\n",
      "f:\\data\\test_file2\\����\\9447.TXT\n",
      "f:\\data\\test_file2\\����\\9448.TXT\n",
      "f:\\data\\test_file2\\����\\9449.TXT\n",
      "f:\\data\\test_file2\\����\\9457.TXT\n",
      "f:\\data\\test_file2\\����\\9458.TXT\n",
      "f:\\data\\test_file2\\����\\9459.TXT\n",
      "f:\\data\\test_file2\\����\\9460.TXT\n",
      "f:\\data\\test_file2\\����\\9461.TXT\n",
      "f:\\data\\test_file2\\����\\9462.TXT\n",
      "f:\\data\\test_file2\\����\\9463.TXT\n",
      "f:\\data\\test_file2\\����\\9464.TXT\n",
      "f:\\data\\test_file2\\����\\9465.TXT\n",
      "f:\\data\\test_file2\\����\\9466.TXT\n",
      "f:\\data\\test_file2\\����\\9467.TXT\n",
      "f:\\data\\test_file2\\����\\9468.TXT\n",
      "f:\\data\\test_file2\\����\\9469.TXT\n",
      "f:\\data\\test_file2\\����\\9470.TXT\n",
      "f:\\data\\test_file2\\����\\9492.TXT\n",
      "f:\\data\\test_file2\\����\\9493.TXT\n",
      "f:\\data\\test_file2\\����\\9494.TXT\n",
      "f:\\data\\test_file2\\����\\9495.TXT\n",
      "f:\\data\\test_file2\\����\\9496.TXT\n",
      "f:\\data\\test_file2\\����\\9497.TXT\n",
      "f:\\data\\test_file2\\����\\9498.TXT\n",
      "f:\\data\\test_file2\\����\\9499.TXT\n",
      "f:\\data\\test_file2\\����\\9500.TXT\n",
      "f:\\data\\test_file2\\����\\9501.TXT\n",
      "f:\\data\\test_file2\\����\\9502.TXT\n",
      "f:\\data\\test_file2\\����\\9503.TXT\n",
      "f:\\data\\test_file2\\����\\9504.TXT\n",
      "f:\\data\\test_file2\\����\\9505.TXT\n",
      "f:\\data\\test_file2\\����\\3158.txt\n",
      "f:\\data\\test_file2\\����\\3159.txt\n",
      "f:\\data\\test_file2\\����\\3160.txt\n",
      "f:\\data\\test_file2\\����\\3161.txt\n",
      "f:\\data\\test_file2\\����\\3162.txt\n",
      "f:\\data\\test_file2\\����\\3163.txt\n",
      "f:\\data\\test_file2\\����\\3164.txt\n",
      "f:\\data\\test_file2\\����\\3165.txt\n",
      "f:\\data\\test_file2\\����\\3166.txt\n",
      "f:\\data\\test_file2\\����\\3167.txt\n",
      "f:\\data\\test_file2\\����\\3168.txt\n",
      "f:\\data\\test_file2\\����\\3169.txt\n",
      "f:\\data\\test_file2\\����\\3170.txt\n",
      "f:\\data\\test_file2\\����\\3171.txt\n",
      "f:\\data\\test_file2\\����\\3172.txt\n",
      "f:\\data\\test_file2\\����\\3173.txt\n",
      "f:\\data\\test_file2\\����\\3174.txt\n",
      "f:\\data\\test_file2\\����\\3175.txt\n",
      "f:\\data\\test_file2\\����\\3176.txt\n",
      "f:\\data\\test_file2\\����\\3177.txt\n",
      "f:\\data\\test_file2\\����\\3178.txt\n",
      "f:\\data\\test_file2\\����\\3179.txt\n",
      "f:\\data\\test_file2\\����\\3180.txt\n",
      "f:\\data\\test_file2\\����\\3181.txt\n",
      "f:\\data\\test_file2\\����\\3182.txt\n",
      "f:\\data\\test_file2\\����\\3183.txt\n",
      "f:\\data\\test_file2\\����\\3184.txt\n",
      "f:\\data\\test_file2\\����\\3185.txt\n",
      "f:\\data\\test_file2\\����\\3195.txt\n",
      "f:\\data\\test_file2\\����\\3196.txt\n",
      "f:\\data\\test_file2\\����\\3197.txt\n",
      "f:\\data\\test_file2\\����\\3198.txt\n",
      "f:\\data\\test_file2\\����\\3199.txt\n",
      "f:\\data\\test_file2\\����\\3200.txt\n",
      "f:\\data\\test_file2\\����\\3201.txt\n",
      "f:\\data\\test_file2\\����\\3202.txt\n",
      "f:\\data\\test_file2\\����\\3203.txt\n",
      "f:\\data\\test_file2\\����\\3204.txt\n",
      "f:\\data\\test_file2\\����\\3205.txt\n",
      "f:\\data\\test_file2\\����\\3206.txt\n",
      "f:\\data\\test_file2\\����\\3207.txt\n",
      "f:\\data\\test_file2\\����\\3208.txt\n",
      "f:\\data\\test_file2\\����\\3209.txt\n",
      "f:\\data\\test_file2\\����\\3210.txt\n",
      "f:\\data\\test_file2\\����\\3211.txt\n",
      "f:\\data\\test_file2\\����\\3216.txt\n",
      "f:\\data\\test_file2\\����\\3217.txt\n",
      "f:\\data\\test_file2\\����\\3218.txt\n",
      "f:\\data\\test_file2\\����\\3219.txt\n",
      "f:\\data\\test_file2\\����\\3220.txt\n",
      "f:\\data\\test_file2\\����\\6265.txt\n",
      "f:\\data\\test_file2\\����\\6266.txt\n",
      "f:\\data\\test_file2\\����\\6267.txt\n",
      "f:\\data\\test_file2\\����\\6268.txt\n",
      "f:\\data\\test_file2\\����\\6269.txt\n",
      "f:\\data\\test_file2\\����\\6270.txt\n",
      "f:\\data\\test_file2\\����\\6271.txt\n",
      "f:\\data\\test_file2\\����\\6272.txt\n",
      "f:\\data\\test_file2\\����\\6273.txt\n",
      "f:\\data\\test_file2\\����\\6274.txt\n",
      "f:\\data\\test_file2\\����\\6275.txt\n",
      "f:\\data\\test_file2\\����\\6276.txt\n",
      "f:\\data\\test_file2\\����\\6277.txt\n",
      "f:\\data\\test_file2\\����\\6278.txt\n",
      "f:\\data\\test_file2\\����\\6279.txt\n",
      "f:\\data\\test_file2\\����\\6280.txt\n",
      "f:\\data\\test_file2\\����\\6281.txt\n",
      "f:\\data\\test_file2\\����\\6282.txt\n",
      "f:\\data\\test_file2\\����\\6283.txt\n",
      "f:\\data\\test_file2\\����\\6284.txt\n",
      "f:\\data\\test_file2\\����\\6285.txt\n",
      "f:\\data\\test_file2\\����\\6286.txt\n",
      "f:\\data\\test_file2\\����\\6287.txt\n",
      "f:\\data\\test_file2\\����\\6288.txt\n",
      "f:\\data\\test_file2\\����\\6289.txt\n",
      "f:\\data\\test_file2\\����\\6301.txt\n",
      "f:\\data\\test_file2\\����\\6302.txt\n",
      "f:\\data\\test_file2\\����\\6303.txt\n",
      "f:\\data\\test_file2\\����\\6304.txt\n",
      "f:\\data\\test_file2\\����\\6305.txt\n",
      "f:\\data\\test_file2\\����\\6306.txt\n",
      "f:\\data\\test_file2\\����\\6307.txt\n",
      "f:\\data\\test_file2\\����\\6308.txt\n",
      "f:\\data\\test_file2\\����\\6309.txt\n",
      "f:\\data\\test_file2\\����\\6310.txt\n",
      "f:\\data\\test_file2\\����\\6311.txt\n",
      "f:\\data\\test_file2\\����\\6312.txt\n",
      "f:\\data\\test_file2\\����\\6313.txt\n",
      "f:\\data\\test_file2\\����\\6314.txt\n",
      "f:\\data\\test_file2\\����\\6315.txt\n",
      "f:\\data\\test_file2\\����\\6316.txt\n",
      "f:\\data\\test_file2\\����\\6317.txt\n",
      "f:\\data\\test_file2\\����\\6318.txt\n",
      "f:\\data\\test_file2\\����\\6319.txt\n",
      "f:\\data\\test_file2\\����\\6320.txt\n",
      "f:\\data\\test_file2\\����\\6321.txt\n",
      "f:\\data\\test_file2\\����\\6322.txt\n",
      "f:\\data\\test_file2\\����\\6323.txt\n",
      "f:\\data\\test_file2\\����\\6324.txt\n",
      "f:\\data\\test_file2\\����\\6325.txt\n",
      "f:\\data\\test_file2\\����\\2173.txt\n",
      "f:\\data\\test_file2\\����\\2174.txt\n",
      "f:\\data\\test_file2\\����\\2175.txt\n",
      "f:\\data\\test_file2\\����\\2176.txt\n",
      "f:\\data\\test_file2\\����\\2177.txt\n",
      "f:\\data\\test_file2\\����\\2178.txt\n",
      "f:\\data\\test_file2\\����\\2179.txt\n",
      "f:\\data\\test_file2\\����\\2180.txt\n",
      "f:\\data\\test_file2\\����\\2181.txt\n",
      "f:\\data\\test_file2\\����\\2182.txt\n",
      "f:\\data\\test_file2\\����\\2183.txt\n",
      "f:\\data\\test_file2\\����\\2184.txt\n",
      "f:\\data\\test_file2\\����\\2185.txt\n",
      "f:\\data\\test_file2\\����\\2186.txt\n",
      "f:\\data\\test_file2\\����\\2187.txt\n",
      "f:\\data\\test_file2\\����\\2188.txt\n",
      "f:\\data\\test_file2\\����\\2189.txt\n",
      "f:\\data\\test_file2\\����\\2190.txt\n",
      "f:\\data\\test_file2\\����\\2195.txt\n",
      "f:\\data\\test_file2\\����\\2196.txt\n",
      "f:\\data\\test_file2\\����\\2197.txt\n",
      "f:\\data\\test_file2\\����\\2198.txt\n",
      "f:\\data\\test_file2\\����\\2199.txt\n",
      "f:\\data\\test_file2\\����\\2200.txt\n",
      "f:\\data\\test_file2\\����\\2201.txt\n",
      "f:\\data\\test_file2\\����\\2202.txt\n",
      "f:\\data\\test_file2\\����\\2203.txt\n",
      "f:\\data\\test_file2\\����\\2204.txt\n",
      "f:\\data\\test_file2\\����\\2205.txt\n",
      "f:\\data\\test_file2\\����\\2206.txt\n",
      "f:\\data\\test_file2\\����\\2207.txt\n",
      "f:\\data\\test_file2\\����\\2208.txt\n",
      "f:\\data\\test_file2\\����\\2209.txt\n",
      "f:\\data\\test_file2\\����\\2210.txt\n",
      "f:\\data\\test_file2\\����\\2211.txt\n",
      "f:\\data\\test_file2\\����\\2212.txt\n",
      "f:\\data\\test_file2\\����\\2213.txt\n",
      "f:\\data\\test_file2\\����\\2236.txt\n",
      "f:\\data\\test_file2\\����\\2237.txt\n",
      "f:\\data\\test_file2\\����\\2238.txt\n",
      "f:\\data\\test_file2\\����\\2239.txt\n",
      "f:\\data\\test_file2\\����\\2240.txt\n",
      "f:\\data\\test_file2\\����\\2241.txt\n",
      "f:\\data\\test_file2\\����\\2242.txt\n",
      "f:\\data\\test_file2\\����\\2243.txt\n",
      "f:\\data\\test_file2\\����\\2244.txt\n",
      "f:\\data\\test_file2\\����\\2245.txt\n",
      "f:\\data\\test_file2\\����\\2246.txt\n",
      "f:\\data\\test_file2\\����\\2247.txt\n",
      "f:\\data\\test_file2\\����\\2248.txt\n"
     ]
    }
   ],
   "source": [
    "X, y, labels = load_file(files, filetype='txt')"
   ]
  },
  {
   "cell_type": "code",
   "execution_count": 27,
   "metadata": {
    "collapsed": false
   },
   "outputs": [
    {
     "data": {
      "text/plain": [
       "array([[  0.,   0.,   0., ...,   0.,   0.,   0.],\n",
       "       [  0.,   0.,   0., ...,   0.,   0.,   0.],\n",
       "       [  0.,   0.,   0., ...,   0.,   0.,   0.],\n",
       "       ..., \n",
       "       [  0.,   0.,   0., ...,   0.,   0.,   0.],\n",
       "       [  0.,   0.,   0., ...,   0.,   0.,   0.],\n",
       "       [ 15.,   0.,   0., ...,   0.,   0.,   0.]])"
      ]
     },
     "execution_count": 27,
     "metadata": {},
     "output_type": "execute_result"
    }
   ],
   "source": [
    "X"
   ]
  },
  {
   "cell_type": "code",
   "execution_count": 28,
   "metadata": {
    "collapsed": false
   },
   "outputs": [],
   "source": [
    "newX = X.copy()\n",
    "newX[newX[:, :]!=0] = 1.0"
   ]
  },
  {
   "cell_type": "code",
   "execution_count": 29,
   "metadata": {
    "collapsed": false
   },
   "outputs": [
    {
     "data": {
      "text/plain": [
       "array([[ 0.,  0.,  0., ...,  0.,  0.,  0.],\n",
       "       [ 0.,  0.,  0., ...,  0.,  0.,  0.],\n",
       "       [ 0.,  0.,  0., ...,  0.,  0.,  0.],\n",
       "       ..., \n",
       "       [ 0.,  0.,  0., ...,  0.,  0.,  0.],\n",
       "       [ 0.,  0.,  0., ...,  0.,  0.,  0.],\n",
       "       [ 1.,  0.,  0., ...,  0.,  0.,  0.]])"
      ]
     },
     "execution_count": 29,
     "metadata": {},
     "output_type": "execute_result"
    }
   ],
   "source": [
    "newX"
   ]
  },
  {
   "cell_type": "code",
   "execution_count": 31,
   "metadata": {
    "collapsed": false
   },
   "outputs": [
    {
     "data": {
      "text/plain": [
       "(350L, 26473L)"
      ]
     },
     "execution_count": 31,
     "metadata": {},
     "output_type": "execute_result"
    }
   ],
   "source": [
    "shape(X)"
   ]
  },
  {
   "cell_type": "code",
   "execution_count": 32,
   "metadata": {
    "collapsed": true
   },
   "outputs": [],
   "source": [
    "dataSet = concatenate((newX, y), axis=1)"
   ]
  },
  {
   "cell_type": "code",
   "execution_count": 33,
   "metadata": {
    "collapsed": false
   },
   "outputs": [
    {
     "data": {
      "text/plain": [
       "array([['0.0', '0.0', '0.0', ..., '0.0', '0.0', '\\xbd\\xbb\\xcd\\xa8'],\n",
       "       ['0.0', '0.0', '0.0', ..., '0.0', '0.0', '\\xbd\\xbb\\xcd\\xa8'],\n",
       "       ['0.0', '0.0', '0.0', ..., '0.0', '0.0', '\\xbd\\xbb\\xcd\\xa8'],\n",
       "       ..., \n",
       "       ['0.0', '0.0', '0.0', ..., '0.0', '0.0', '\\xd2\\xd5\\xca\\xf5'],\n",
       "       ['0.0', '0.0', '0.0', ..., '0.0', '0.0', '\\xd2\\xd5\\xca\\xf5'],\n",
       "       ['1.0', '0.0', '0.0', ..., '0.0', '0.0', '\\xd2\\xd5\\xca\\xf5']], \n",
       "      dtype='|S32')"
      ]
     },
     "execution_count": 33,
     "metadata": {},
     "output_type": "execute_result"
    }
   ],
   "source": [
    "dataSet"
   ]
  },
  {
   "cell_type": "code",
   "execution_count": 34,
   "metadata": {
    "collapsed": true
   },
   "outputs": [],
   "source": [
    "\n",
    "#----------------------------------------------------------------------\n",
    "def calcShannonEnt(dataSet):\n",
    "    \"\"\"\"\"\"\n",
    "    nums = len(dataSet)\n",
    "    labels = {}\n",
    "    for i in dataSet:\n",
    "        label = i[-1]\n",
    "        num = labels.get(label, 0)\n",
    "        labels[label] = num + 1\n",
    "    shannonEnt = 0.0\n",
    "    for key in labels:\n",
    "        prob = labels[key] / float(nums)\n",
    "        shannonEnt -= prob * log(prob)\n",
    "    return shannonEnt\n",
    "\n",
    "#----------------------------------------------------------------------\n",
    "def calcInformationGain(dataSet, j):\n",
    "    \"\"\"\"\"\"\n",
    "    symbols = set(dataSet[:, j])\n",
    "    length = len(dataSet)\n",
    "    infG = 0.0\n",
    "    for symbol in symbols:\n",
    "        subset = dataSet[dataSet[:, j]==symbol]\n",
    "        prob = len(subset) / float(length)\n",
    "        infG += prob * calcShannonEnt(subset)\n",
    "    return calcShannonEnt(dataSet) - infG"
   ]
  },
  {
   "cell_type": "code",
   "execution_count": 35,
   "metadata": {
    "collapsed": false
   },
   "outputs": [
    {
     "data": {
      "text/plain": [
       "0.018460020341378058"
      ]
     },
     "execution_count": 35,
     "metadata": {},
     "output_type": "execute_result"
    }
   ],
   "source": [
    "calcInformationGain(dataSet, 1)"
   ]
  },
  {
   "cell_type": "code",
   "execution_count": null,
   "metadata": {
    "collapsed": false
   },
   "outputs": [],
   "source": [
    "igs = [calcInformationGain(dataSet, i) for i in range(shape(X)[1])]"
   ]
  },
  {
   "cell_type": "code",
   "execution_count": null,
   "metadata": {
    "collapsed": false
   },
   "outputs": [
    {
     "name": "stdout",
     "output_type": "stream",
     "text": [
      "> f:\\github\\bayesclassifier\\bayestextcls.py(197)test_load_files()\n",
      "-> start = datetime.datetime.now()\n"
     ]
    }
   ],
   "source": [
    "run bayesTextCls.py"
   ]
  },
  {
   "cell_type": "code",
   "execution_count": null,
   "metadata": {
    "collapsed": true
   },
   "outputs": [],
   "source": []
  }
 ],
 "metadata": {
  "kernelspec": {
   "display_name": "Python 2",
   "language": "python",
   "name": "python2"
  },
  "language_info": {
   "codemirror_mode": {
    "name": "ipython",
    "version": 2
   },
   "file_extension": ".py",
   "mimetype": "text/x-python",
   "name": "python",
   "nbconvert_exporter": "python",
   "pygments_lexer": "ipython2",
   "version": "2.7.13"
  }
 },
 "nbformat": 4,
 "nbformat_minor": 2
}
